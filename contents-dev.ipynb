{
 "cells": [
  {
   "cell_type": "markdown",
   "metadata": {},
   "source": [
    "# <booktitle>Data Science Intensive</booktitle>\n",
    "\n",
    "<author>Joshua Cook</author>"
   ]
  },
  {
   "cell_type": "markdown",
   "metadata": {},
   "source": [
    "## Case Study: Linear Modeling"
   ]
  },
  {
   "cell_type": "markdown",
   "metadata": {},
   "source": [
    "<include type=\"notebook\">\n",
    "  <a href=\"case-studies/case-study-linear-modeling/linear_algebra_and_modeling-05-Linear_Algebraic_Solutions-Python.ipynb\">Linear Algebraic Solutions</a>\n",
    "</include>"
   ]
  },
  {
   "cell_type": "markdown",
   "metadata": {},
   "source": [
    "<include type=\"notebook\">\n",
    "  <a href=\"case-studies/case-study-linear-modeling/linear_algebra_and_modeling-06-solving_systems_via_linear_algebra-Python.ipynb\">Solving Systems via Linear Algebra</a>\n",
    "</include>"
   ]
  },
  {
   "cell_type": "markdown",
   "metadata": {},
   "source": [
    "<include type=\"notebook\">\n",
    "  <a href=\"case-studies/case-study-linear-modeling/linear_algebra_and_modeling-07-Inverting_the_Problem-Python.ipynb\">Inverting the Problem</a>\n",
    "</include>"
   ]
  },
  {
   "cell_type": "markdown",
   "metadata": {},
   "source": [
    "<xinclude type=\"notebook\">\n",
    "  <a href=\"case-studies/case-study-linear-modeling/linear_algebra_and_modeling-08-An_Overdetermined_System-Python.ipynb\">An Overdetermined System</a>\n",
    "</include>\n",
    "\n",
    "<xinclude type=\"notebook\">\n",
    "  <a href=\"case-studies/case-study-linear-modeling/linear_algebra_and_modeling-09-statistical-learning-Python.ipynb\">Statistical Learning</a>\n",
    "</include>\n",
    "\n",
    "<xinclude type=\"notebook\">\n",
    "  <a href=\"case-studies/case-study-linear-modeling/linear_algebra_and_modeling-10-minimizing-the-loss-Python.ipynb\">Minimizing the Loss</a>\n",
    "</include>\n",
    "\n",
    "<xinclude type=\"notebook\">\n",
    "  <a href=\"case-studies/case-study-linear-modeling/linear_algebra_and_modeling-11-the-normal-equations-Python.ipynb\">The Normal Equations</a>\n",
    "</include>"
   ]
  },
  {
   "cell_type": "code",
   "execution_count": null,
   "metadata": {},
   "outputs": [],
   "source": []
  }
 ],
 "metadata": {
  "kernelspec": {
   "display_name": "Python 3",
   "language": "python",
   "name": "python3"
  },
  "language_info": {
   "codemirror_mode": {
    "name": "ipython",
    "version": 3
   },
   "file_extension": ".py",
   "mimetype": "text/x-python",
   "name": "python",
   "nbconvert_exporter": "python",
   "pygments_lexer": "ipython3",
   "version": "3.6.4"
  }
 },
 "nbformat": 4,
 "nbformat_minor": 2
}
