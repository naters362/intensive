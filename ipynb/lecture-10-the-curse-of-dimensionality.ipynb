{
 "cells": [
  {
   "cell_type": "markdown",
   "metadata": {},
   "source": [
    "### The Curse of Dimensionality"
   ]
  },
  {
   "cell_type": "code",
   "execution_count": 1,
   "metadata": {},
   "outputs": [],
   "source": [
    "###### Define Numerical Python environment\n",
    "\n",
    "import numpy as np\n",
    "import pandas as pd\n",
    "import matplotlib.pyplot as plt\n",
    "%matplotlib inline"
   ]
  },
  {
   "cell_type": "code",
   "execution_count": 2,
   "metadata": {},
   "outputs": [
    {
     "data": {
      "text/plain": [
       "array([1.        , 1.33333333, 1.66666667, 2.        , 2.33333333,\n",
       "       2.66666667, 3.        , 3.33333333, 3.66666667, 4.        ])"
      ]
     },
     "execution_count": 2,
     "metadata": {},
     "output_type": "execute_result"
    }
   ],
   "source": [
    "np.linspace(1,4,10)"
   ]
  },
  {
   "cell_type": "code",
   "execution_count": 3,
   "metadata": {},
   "outputs": [
    {
     "data": {
      "text/plain": [
       "array([   10.        ,    21.5443469 ,    46.41588834,   100.        ,\n",
       "         215.443469  ,   464.15888336,  1000.        ,  2154.43469003,\n",
       "        4641.58883361, 10000.        ])"
      ]
     },
     "execution_count": 3,
     "metadata": {},
     "output_type": "execute_result"
    }
   ],
   "source": [
    "np.logspace(1,4,10)"
   ]
  },
  {
   "cell_type": "code",
   "execution_count": 4,
   "metadata": {},
   "outputs": [],
   "source": [
    "###### Define `datasets` of varying size using `make_classification`\n",
    "\n",
    "from sklearn.datasets import make_classification\n",
    "\n",
    "n_vals = np.logspace(1, 4, 20)\n",
    "\n",
    "datasets = { \n",
    "    int(n): make_classification(int(n)) \n",
    "    for n in n_vals\n",
    "}"
   ]
  },
  {
   "cell_type": "code",
   "execution_count": 5,
   "metadata": {},
   "outputs": [],
   "source": [
    "def return_two_things():\n",
    "    return 1, 2"
   ]
  },
  {
   "cell_type": "code",
   "execution_count": 6,
   "metadata": {},
   "outputs": [
    {
     "data": {
      "text/plain": [
       "(1, 2)"
      ]
     },
     "execution_count": 6,
     "metadata": {},
     "output_type": "execute_result"
    }
   ],
   "source": [
    "t = return_two_things()\n",
    "t"
   ]
  },
  {
   "cell_type": "code",
   "execution_count": 7,
   "metadata": {},
   "outputs": [
    {
     "name": "stdout",
     "output_type": "stream",
     "text": [
      "Variable              Type        Data/Info\n",
      "-------------------------------------------\n",
      "datasets              dict        n=20\n",
      "make_classification   function    <function make_classification at 0x1a1596ba60>\n",
      "n_vals                ndarray     20: 20 elems, type `float64`, 160 bytes\n",
      "np                    module      <module 'numpy' from '/an<...>kages/numpy/__init__.py'>\n",
      "pd                    module      <module 'pandas' from '/a<...>ages/pandas/__init__.py'>\n",
      "plt                   module      <module 'matplotlib.pyplo<...>es/matplotlib/pyplot.py'>\n",
      "return_two_things     function    <function return_two_things at 0x1a1597d400>\n",
      "t                     tuple       n=2\n"
     ]
    }
   ],
   "source": [
    "%whos "
   ]
  },
  {
   "cell_type": "code",
   "execution_count": 8,
   "metadata": {},
   "outputs": [],
   "source": [
    "###### Load models from Scikit-Learn\n",
    "\n",
    "from sklearn.neighbors import KNeighborsClassifier\n",
    "from sklearn.tree import DecisionTreeClassifier\n",
    "from sklearn.linear_model import LogisticRegression\n",
    "from sklearn.svm import SVC"
   ]
  },
  {
   "cell_type": "code",
   "execution_count": 9,
   "metadata": {},
   "outputs": [],
   "source": [
    "###### Define dictionary of models\n",
    "\n",
    "models = {\n",
    "    'knn' : KNeighborsClassifier(),\n",
    "    'lr' : LogisticRegression(),\n",
    "    'dt' : DecisionTreeClassifier(),\n",
    "    'svm' : SVC(),\n",
    "}"
   ]
  },
  {
   "cell_type": "code",
   "execution_count": 10,
   "metadata": {},
   "outputs": [],
   "source": [
    "###### import `time` library\n",
    "\n",
    "from time import time"
   ]
  },
  {
   "cell_type": "markdown",
   "metadata": {},
   "source": [
    "https://stackoverflow.com/questions/2322355/proper-name-for-python-operator"
   ]
  },
  {
   "cell_type": "code",
   "execution_count": 11,
   "metadata": {},
   "outputs": [],
   "source": [
    "###### Define functions to time fit and prediction\n",
    "\n",
    "def time_fit(data, model):\n",
    "    start = time()\n",
    "    model.fit(*data)\n",
    "    fit_time = time() - start\n",
    "    return fit_time\n",
    "\n",
    "def time_predict(data, model):\n",
    "    start = time()\n",
    "    model.predict(data[0])\n",
    "    predict_time = time() - start\n",
    "    return predict_time"
   ]
  },
  {
   "cell_type": "code",
   "execution_count": 12,
   "metadata": {},
   "outputs": [],
   "source": [
    "###### Define function to test all models on a dataset of size $n$\n",
    "\n",
    "def fit_predict_model_on_n(model_name, n):\n",
    "    \n",
    "    model = models[model_name]\n",
    "    dataset = datasets[n]\n",
    "    \n",
    "    fit_time = time_fit(dataset, model)\n",
    "    \n",
    "    predict_time = time_predict(dataset, model)\n",
    "    \n",
    "    return {\n",
    "        'model_name' : model_name,\n",
    "        'n' : n,\n",
    "        'fit_time' : fit_time,\n",
    "        'predict_time' : predict_time\n",
    "    }"
   ]
  },
  {
   "cell_type": "code",
   "execution_count": 13,
   "metadata": {},
   "outputs": [],
   "source": [
    "###### Run all models against all datasets \n",
    "\n",
    "results = []\n",
    "for n in datasets.keys():\n",
    "    for model in models.keys():\n",
    "        results.append(fit_predict_model_on_n(model, n))"
   ]
  },
  {
   "cell_type": "code",
   "execution_count": 14,
   "metadata": {},
   "outputs": [],
   "source": [
    "###### Run all models against all datasets as a list comprehension\n",
    "\n",
    "results = [\n",
    "    fit_predict_model_on_n(model, n)\n",
    "    for n in datasets.keys()\n",
    "    for model in models.keys()\n",
    "]"
   ]
  },
  {
   "cell_type": "code",
   "execution_count": 15,
   "metadata": {},
   "outputs": [],
   "source": [
    "###### Collect results in a `DataFrame`\n",
    "\n",
    "results_df = pd.DataFrame(results)"
   ]
  },
  {
   "cell_type": "code",
   "execution_count": 16,
   "metadata": {},
   "outputs": [
    {
     "data": {
      "text/html": [
       "<div>\n",
       "<style scoped>\n",
       "    .dataframe tbody tr th:only-of-type {\n",
       "        vertical-align: middle;\n",
       "    }\n",
       "\n",
       "    .dataframe tbody tr th {\n",
       "        vertical-align: top;\n",
       "    }\n",
       "\n",
       "    .dataframe thead th {\n",
       "        text-align: right;\n",
       "    }\n",
       "</style>\n",
       "<table border=\"1\" class=\"dataframe\">\n",
       "  <thead>\n",
       "    <tr style=\"text-align: right;\">\n",
       "      <th></th>\n",
       "      <th>fit_time</th>\n",
       "      <th>model_name</th>\n",
       "      <th>n</th>\n",
       "      <th>predict_time</th>\n",
       "    </tr>\n",
       "  </thead>\n",
       "  <tbody>\n",
       "    <tr>\n",
       "      <th>56</th>\n",
       "      <td>0.002162</td>\n",
       "      <td>knn</td>\n",
       "      <td>1623</td>\n",
       "      <td>0.100492</td>\n",
       "    </tr>\n",
       "    <tr>\n",
       "      <th>12</th>\n",
       "      <td>0.000523</td>\n",
       "      <td>knn</td>\n",
       "      <td>29</td>\n",
       "      <td>0.000788</td>\n",
       "    </tr>\n",
       "    <tr>\n",
       "      <th>28</th>\n",
       "      <td>0.000363</td>\n",
       "      <td>knn</td>\n",
       "      <td>127</td>\n",
       "      <td>0.002139</td>\n",
       "    </tr>\n",
       "    <tr>\n",
       "      <th>74</th>\n",
       "      <td>0.161152</td>\n",
       "      <td>dt</td>\n",
       "      <td>6951</td>\n",
       "      <td>0.000792</td>\n",
       "    </tr>\n",
       "    <tr>\n",
       "      <th>59</th>\n",
       "      <td>0.045532</td>\n",
       "      <td>svm</td>\n",
       "      <td>1623</td>\n",
       "      <td>0.027541</td>\n",
       "    </tr>\n",
       "  </tbody>\n",
       "</table>\n",
       "</div>"
      ],
      "text/plain": [
       "    fit_time model_name     n  predict_time\n",
       "56  0.002162        knn  1623      0.100492\n",
       "12  0.000523        knn    29      0.000788\n",
       "28  0.000363        knn   127      0.002139\n",
       "74  0.161152         dt  6951      0.000792\n",
       "59  0.045532        svm  1623      0.027541"
      ]
     },
     "execution_count": 16,
     "metadata": {},
     "output_type": "execute_result"
    }
   ],
   "source": [
    "###### Display a sample of the results\n",
    "\n",
    "results_df.sample(5)"
   ]
  },
  {
   "cell_type": "code",
   "execution_count": 17,
   "metadata": {},
   "outputs": [
    {
     "data": {
      "image/png": "[encoded data removed]",
      "text/plain": [
       "<Figure size 1440x360 with 2 Axes>"
      ]
     },
     "metadata": {},
     "output_type": "display_data"
    }
   ],
   "source": [
    "###### Plot Fit Time and Prediction Time\n",
    "\n",
    "fig, (ax1, ax2) = plt.subplots(1, 2, figsize=(20,5))\n",
    "\n",
    "for model_name in results_df.model_name.unique():\n",
    "    \n",
    "    model_mask = (results_df.model_name == model_name)\n",
    "    model_results_df = results_df[model_mask]\n",
    "\n",
    "    ax1.set_title('Fit Time')\n",
    "    ax1.plot(model_results_df.n, \n",
    "             model_results_df.fit_time, \n",
    "             label=model_name)\n",
    "    ax1.set_ylim((0,5))\n",
    "    ax1.legend()\n",
    "    \n",
    "    ax2.set_title('Prediction Time')\n",
    "    ax2.set_ylim((0, 5))\n",
    "    ax2.plot(model_results_df.n, \n",
    "             model_results_df.predict_time, \n",
    "             label=model_name)\n",
    "    ax2.legend()\n",
    "    \n",
    "plt.show()    "
   ]
  },
  {
   "cell_type": "code",
   "execution_count": 18,
   "metadata": {},
   "outputs": [
    {
     "data": {
      "image/png": "[encoded data removed]",
      "text/plain": [
       "<Figure size 1440x360 with 2 Axes>"
      ]
     },
     "metadata": {},
     "output_type": "display_data"
    }
   ],
   "source": [
    "###### Plot Fit Time and Prediction Time with Logarithmic Scale for $n$\n",
    "\n",
    "fig, (ax1, ax2) = plt.subplots(1, 2, figsize=(20,5))\n",
    "\n",
    "for model_name in results_df.model_name.unique():\n",
    "    \n",
    "    model_mask = (results_df.model_name == model_name)\n",
    "    model_results_df = results_df[model_mask]\n",
    "    \n",
    "    ax1.set_title('Fit Time')\n",
    "    ax1.plot(model_results_df.n, \n",
    "             model_results_df.fit_time, \n",
    "             label=model_name)\n",
    "    ax1.set_xscale('log')\n",
    "    ax1.set_ylim((0, 5))\n",
    "    ax1.legend()\n",
    "    \n",
    "    ax2.set_title('Prediction Time')\n",
    "    ax2.plot(model_results_df.n, \n",
    "             model_results_df.predict_time, \n",
    "             label=model_name)\n",
    "    ax2.set_xscale('log')\n",
    "    ax2.set_ylim((0, 5))\n",
    "    ax2.legend()\n",
    "\n",
    "plt.show()    "
   ]
  }
 ],
 "metadata": {
  "kernelspec": {
   "display_name": "Python 3",
   "language": "python",
   "name": "python3"
  },
  "language_info": {
   "codemirror_mode": {
    "name": "ipython",
    "version": 3
   },
   "file_extension": ".py",
   "mimetype": "text/x-python",
   "name": "python",
   "nbconvert_exporter": "python",
   "pygments_lexer": "ipython3",
   "version": "3.6.5"
  }
 },
 "nbformat": 4,
 "nbformat_minor": 2
}
