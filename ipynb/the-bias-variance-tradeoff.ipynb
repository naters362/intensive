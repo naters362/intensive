{
 "cells": [
  {
   "cell_type": "markdown",
   "metadata": {},
   "source": [
    "### The Bias-Variance Tradeoff Revisited"
   ]
  },
  {
   "cell_type": "code",
   "execution_count": 1,
   "metadata": {},
   "outputs": [],
   "source": [
    "###### Set up Numerical Python environment\n",
    "\n",
    "import matplotlib.pyplot as plt\n",
    "import numpy as np\n",
    "import pandas as pd\n",
    "import seaborn as sns\n",
    "\n",
    "%matplotlib inline\n",
    "plt.rc('figure', figsize=(20, 6))"
   ]
  },
  {
   "cell_type": "code",
   "execution_count": 2,
   "metadata": {},
   "outputs": [],
   "source": [
    "###### Load Iris dataset\n",
    "\n",
    "from sklearn.datasets import load_iris\n",
    "\n",
    "feature_names = [\n",
    "    'sepal_length',\n",
    "    'sepal_width',\n",
    "    'petal_length',\n",
    "    'petal_width'\n",
    "]\n",
    "\n",
    "IRIS = load_iris()\n",
    "iris_df = pd.DataFrame(IRIS.data, columns=feature_names)\n",
    "labels = IRIS.target_names"
   ]
  },
  {
   "cell_type": "markdown",
   "metadata": {},
   "source": [
    "In his 1996 paper, \"The Lack of A Priori Distinctions between Learning Algorithms,\" David Wolpert asserts that \"There is No Free Lunch in Machine Learning\", essentially saying that the performance of on machine learning models are equivalent when averaged across all possible problems. In other words, there is no way to know which model is going to perform at best for a particular problem. In practice this means that we must have strong methods for assessing the performance of our models.\n"
   ]
  },
  {
   "cell_type": "markdown",
   "metadata": {},
   "source": [
    "Thinking about model performance is complex. We cannot simply choose the model that performs best with the data that we have. The reason for this is that the data we have represents a sample of the actual data that we could possibly collect now or in the future. The \"best model\" is not necessarily one that performs best on the data that we have. The best model is a model that performs extremely well on the data that we have but it's also capable of generalizing to new data. In statistical learning, we have a framework for thinking about this called The Bias-Variance Tradeoff."
   ]
  },
  {
   "cell_type": "markdown",
   "metadata": {},
   "source": [
    "This framework is difficult to understand. Adding to the difficulty is the fact that both \"bias\" and \"variance\" are important concepts for working in applied statistics **and** the meaning of these terms is difficult to reconcile with their meaning when thinking about the Bias-Variance Tradeoff."
   ]
  },
  {
   "cell_type": "markdown",
   "metadata": {},
   "source": [
    "Let us try to come to a high level understanding of these terms in this setting before looking at them in application. You might think of **bias** as the extent to which a particular model can learn to represent an underlying physical phenomenon. A low bias means that the model was able to learn the phenomenon well. For example, looking at the Iris data set, if we are building a regression model to predict the petal width then bias would be the degree to which our model was able to learn the relationship between petal length and petal width or sepal width and petal width. "
   ]
  },
  {
   "cell_type": "markdown",
   "metadata": {},
   "source": [
    "**Variance** on the other hand is the extent to which a particular model would change if fit with different data. We previously looked at sampling our data set. We saw the measured means of value change with each sample. From this we can infer that a model predicting the meaning with only a few points of data has a high variance."
   ]
  },
  {
   "cell_type": "markdown",
   "metadata": {},
   "source": [
    "#### The Gory Details"
   ]
  },
  {
   "cell_type": "markdown",
   "metadata": {},
   "source": [
    "If we have split our data into a training set and a testing set, then we can think of choosing the best model in terms of optimizing the expected test error, $MSE_{test}$\n",
    "\n",
    "Let's consider sources of possible test error:\n",
    "\n",
    "$$MSE_{test} = \\mathbb{E}\\left[(y-\\widehat{y})^2\\right] = \\text{Var}\\left(\\widehat{y}\\right) + \\left(\\text{Bias}\\left(\\widehat{y}\\right)\\right)^2 + \\text{Var}\\left(\\epsilon\\right)$$\n",
    "\n",
    "This is intended to be a conceptual and not an actual calculation to be performed. Let's think about what each of these terms might represent. The variance is error introduced to the model by the specific choice of training data. Of course this isn't something that we choose, at least not with out using randomness, but the training data that is used will impact the model. By nature, variance is a squared value and that's always positive. Bias is introduced by choosing a specific model. Note that it is squared here and thus also always positive. The last term is the variance caused by noise in the system. We have no way of controlling this, nor of actually knowing what is truly noise and what is model variance or bias. Again this term is always positive.\n",
    "\n",
    "The important thing is that all three of these terms are always positive. The impact of this is that one kind of error cannot be offset by another kind of error. A high variance cannot be offset by a low bias. **In order to choose the best model, we are going to need to simultaneously minimize both bias and variance.** The problem is changing an aspect of our model to decrease one Will typically increase the other -- The Bias-Variance Tradeoff."
   ]
  },
  {
   "cell_type": "markdown",
   "metadata": {},
   "source": [
    "#### Model Assessment"
   ]
  },
  {
   "cell_type": "markdown",
   "metadata": {},
   "source": [
    "Consider these eight models for predicting petal width $x_{pw}$ on the Iris data set, using the other three features, petal length $x_{pl}$, sepal length $x_{sl}$, and sepal width $x_{sw}$"
   ]
  },
  {
   "cell_type": "markdown",
   "metadata": {},
   "source": [
    "\\begin{align*}\n",
    "\\widehat{f}_0 = \\widehat{x}_{pw} &= \\beta_0 \\\\\n",
    "\\widehat{f}_1 = \\widehat{x}_{pw} &= \\beta_0 + \\beta_1x_{pl}\\\\\n",
    "\\widehat{f}_2 = \\widehat{x}_{pw} &= \\beta_0 + \\beta_1x_{sl}\\\\\n",
    "\\widehat{f}_3 = \\widehat{x}_{pw} &= \\beta_0 + \\beta_1x_{sw}\\\\\n",
    "\\widehat{f}_4 = \\widehat{x}_{pw} &= \\beta_0 + \\beta_1x_{pl} + \\beta_1x_{sl}\\\\\n",
    "\\widehat{f}_5 = \\widehat{x}_{pw} &= \\beta_0 + \\beta_1x_{pl} + \\beta_1x_{sw}\\\\\n",
    "\\widehat{f}_6 = \\widehat{x}_{pw} &= \\beta_0 + \\beta_1x_{sl} + \\beta_1x_{sw}\\\\\n",
    "\\widehat{f}_7 = \\widehat{x}_{pw} &= \\beta_0 + \\beta_1x_{pl} + \\beta_1x_{sl}+ \\beta_1x_{sw}\\\\\n",
    "\\end{align*}"
   ]
  },
  {
   "cell_type": "markdown",
   "metadata": {},
   "source": [
    "We will split our dataset into ten randomly chosen subsets of 50 points each. We will assess the performance of each of these models. We will use the mean of the performance to represent bias and the standard deviation of the performance to represent variance."
   ]
  },
  {
   "cell_type": "code",
   "execution_count": 3,
   "metadata": {},
   "outputs": [],
   "source": [
    "###### Create 10 sample datasets from full data set\n",
    "\n",
    "samples = []\n",
    "for _ in range(10):\n",
    "    samples.append(iris_df.sample(50))"
   ]
  },
  {
   "cell_type": "code",
   "execution_count": 5,
   "metadata": {},
   "outputs": [],
   "source": [
    "###### Create 10 sample datasets from full data set with list comprehension\n",
    "\n",
    "samples = [iris_df.sample(50) for _ in range(10)]"
   ]
  },
  {
   "cell_type": "code",
   "execution_count": 6,
   "metadata": {},
   "outputs": [
    {
     "data": {
      "text/plain": [
       "[50, 50, 50, 50, 50, 50, 50, 50, 50, 50]"
      ]
     },
     "execution_count": 6,
     "metadata": {},
     "output_type": "execute_result"
    }
   ],
   "source": [
    "###### Show length of each sample in the list `samples`\n",
    "\n",
    "[len(sample_set) for sample_set in samples]"
   ]
  },
  {
   "cell_type": "code",
   "execution_count": 7,
   "metadata": {},
   "outputs": [],
   "source": [
    "###### Import the design matrices library, `dmatrices` from `patsy`\n",
    "\n",
    "from patsy import dmatrices"
   ]
  },
  {
   "cell_type": "code",
   "execution_count": 8,
   "metadata": {},
   "outputs": [],
   "source": [
    "###### Import the Linear Regression Model from Sklearn\n",
    "\n",
    "from sklearn.linear_model import LinearRegression"
   ]
  },
  {
   "cell_type": "code",
   "execution_count": 9,
   "metadata": {},
   "outputs": [
    {
     "data": {
      "text/plain": [
       "array([9, 9, 9])"
      ]
     },
     "execution_count": 9,
     "metadata": {},
     "output_type": "execute_result"
    }
   ],
   "source": [
    "###### Simple example of computing a list of squared differences\n",
    "\n",
    "a = np.array((1,2,3))\n",
    "b = np.array((4,5,6))\n",
    "\n",
    "(b - a)**2"
   ]
  },
  {
   "cell_type": "code",
   "execution_count": 10,
   "metadata": {},
   "outputs": [],
   "source": [
    "###### Define a Mean Squared Error function\n",
    "\n",
    "def MSE(actual, predicted):\n",
    "    return sum((actual - predicted)**2)/len(actual)"
   ]
  },
  {
   "cell_type": "code",
   "execution_count": 11,
   "metadata": {},
   "outputs": [],
   "source": [
    "###### Define a function for running our tests\n",
    "\n",
    "def test_func(model_description):\n",
    "    \n",
    "    test = dict()\n",
    "    \n",
    "    test['samples'] = [\n",
    "        dmatrices(model_description, sample) \n",
    "        for sample in samples\n",
    "    ]\n",
    "    \n",
    "    test['models']  = [\n",
    "        LinearRegression(fit_intercept=False) \n",
    "        for _ in range(10)\n",
    "    ]\n",
    "    \n",
    "    test['scores']  = []\n",
    "    \n",
    "    models_and_samples = zip(test['models'],\n",
    "                             test['samples'])\n",
    "\n",
    "    for model, sample in models_and_samples:\n",
    "        target = sample[0]\n",
    "        features = sample[1]\n",
    "        model.fit(features, target)\n",
    "        \n",
    "        mse = MSE(model.predict(features), target)\n",
    "\n",
    "        test['scores'].append(mse)\n",
    "    \n",
    "    test['scores'] = np.array(test['scores'])\n",
    "    \n",
    "    results = { 'description' : model_description }\n",
    "    \n",
    "    results['bias'] = test['scores'].mean()\n",
    "    results['variance'] = test['scores'].std()\n",
    "\n",
    "    return test, results"
   ]
  },
  {
   "cell_type": "code",
   "execution_count": 12,
   "metadata": {},
   "outputs": [],
   "source": [
    "###### Get the results of running the test on the minimal model\n",
    "\n",
    "model_1 = \"petal_width ~ 1\"\n",
    "test_1, results_1 = test_func(model_1)"
   ]
  },
  {
   "cell_type": "code",
   "execution_count": 13,
   "metadata": {},
   "outputs": [
    {
     "data": {
      "text/plain": [
       "array([[0.490656],\n",
       "       [0.674404],\n",
       "       [0.513156],\n",
       "       [0.5229  ],\n",
       "       [0.648164],\n",
       "       [0.514644],\n",
       "       [0.656464],\n",
       "       [0.679104],\n",
       "       [0.556804],\n",
       "       [0.634244]])"
      ]
     },
     "execution_count": 13,
     "metadata": {},
     "output_type": "execute_result"
    }
   ],
   "source": [
    "###### Display the results of the MSE scores on the minimal model\n",
    "\n",
    "test_1['scores']"
   ]
  },
  {
   "cell_type": "code",
   "execution_count": 14,
   "metadata": {},
   "outputs": [
    {
     "data": {
      "text/plain": [
       "(0.5890540000000001, 0.07202068898865105)"
      ]
     },
     "execution_count": 14,
     "metadata": {},
     "output_type": "execute_result"
    }
   ],
   "source": [
    "###### Show how we are collecting results\n",
    "\n",
    "test_1['scores'].mean(), test_1['scores'].std()"
   ]
  },
  {
   "cell_type": "code",
   "execution_count": 15,
   "metadata": {
    "scrolled": true
   },
   "outputs": [
    {
     "data": {
      "text/plain": [
       "{'description': 'petal_width ~ 1',\n",
       " 'bias': 0.5890540000000001,\n",
       " 'variance': 0.07202068898865105}"
      ]
     },
     "execution_count": 15,
     "metadata": {},
     "output_type": "execute_result"
    }
   ],
   "source": [
    "###### Display the results returned by the test\n",
    "\n",
    "results_1"
   ]
  },
  {
   "cell_type": "code",
   "execution_count": 16,
   "metadata": {},
   "outputs": [],
   "source": [
    "###### Define all models\n",
    "\n",
    "model_2 = \"petal_width ~ 1 + petal_length\"\n",
    "model_3 = \"petal_width ~ 1 + sepal_length\"\n",
    "model_4 = \"petal_width ~ 1 + sepal_width\"\n",
    "model_5 = \"petal_width ~ 1 + petal_length + sepal_width\"\n",
    "model_6 = \"petal_width ~ 1 + petal_length + sepal_length\"\n",
    "model_7 = \"petal_width ~ 1 + sepal_length + sepal_width\"\n",
    "model_8 = \"petal_width ~ 1 + petal_length + sepal_length + sepal_width\""
   ]
  },
  {
   "cell_type": "code",
   "execution_count": 17,
   "metadata": {},
   "outputs": [],
   "source": [
    "###### Execute the test on the other seven model and collect the results\n",
    "\n",
    "test_2, results_2 = test_func(model_2)\n",
    "test_3, results_3 = test_func(model_3)\n",
    "test_4, results_4 = test_func(model_4)\n",
    "test_5, results_5 = test_func(model_5)\n",
    "test_6, results_6 = test_func(model_6)\n",
    "test_7, results_7 = test_func(model_7)\n",
    "test_8, results_8 = test_func(model_8)\n",
    "results = [\n",
    "    results_1,\n",
    "    results_2,\n",
    "    results_3,\n",
    "    results_4,\n",
    "    results_5,\n",
    "    results_6,\n",
    "    results_7,\n",
    "    results_8\n",
    "]"
   ]
  },
  {
   "cell_type": "code",
   "execution_count": 18,
   "metadata": {},
   "outputs": [],
   "source": [
    "###### Turn the results into a `DataFrame` for ease of display\n",
    "\n",
    "results = pd.DataFrame(results)"
   ]
  },
  {
   "cell_type": "code",
   "execution_count": 19,
   "metadata": {},
   "outputs": [],
   "source": [
    "###### Add colors to results \n",
    "\n",
    "results['color'] = ['red','orange', 'yellow', 'green', \n",
    "                    'blue', 'cyan', 'purple' ,'black']"
   ]
  },
  {
   "cell_type": "code",
   "execution_count": 20,
   "metadata": {},
   "outputs": [
    {
     "data": {
      "text/html": [
       "<div>\n",
       "<style scoped>\n",
       "    .dataframe tbody tr th:only-of-type {\n",
       "        vertical-align: middle;\n",
       "    }\n",
       "\n",
       "    .dataframe tbody tr th {\n",
       "        vertical-align: top;\n",
       "    }\n",
       "\n",
       "    .dataframe thead th {\n",
       "        text-align: right;\n",
       "    }\n",
       "</style>\n",
       "<table border=\"1\" class=\"dataframe\">\n",
       "  <thead>\n",
       "    <tr style=\"text-align: right;\">\n",
       "      <th></th>\n",
       "      <th>bias</th>\n",
       "      <th>description</th>\n",
       "      <th>variance</th>\n",
       "      <th>color</th>\n",
       "    </tr>\n",
       "  </thead>\n",
       "  <tbody>\n",
       "    <tr>\n",
       "      <th>0</th>\n",
       "      <td>0.589054</td>\n",
       "      <td>petal_width ~ 1</td>\n",
       "      <td>0.072021</td>\n",
       "      <td>red</td>\n",
       "    </tr>\n",
       "    <tr>\n",
       "      <th>1</th>\n",
       "      <td>0.037983</td>\n",
       "      <td>petal_width ~ 1 + petal_length</td>\n",
       "      <td>0.008209</td>\n",
       "      <td>orange</td>\n",
       "    </tr>\n",
       "    <tr>\n",
       "      <th>2</th>\n",
       "      <td>0.191311</td>\n",
       "      <td>petal_width ~ 1 + sepal_length</td>\n",
       "      <td>0.025984</td>\n",
       "      <td>yellow</td>\n",
       "    </tr>\n",
       "    <tr>\n",
       "      <th>3</th>\n",
       "      <td>0.482659</td>\n",
       "      <td>petal_width ~ 1 + sepal_width</td>\n",
       "      <td>0.091107</td>\n",
       "      <td>green</td>\n",
       "    </tr>\n",
       "    <tr>\n",
       "      <th>4</th>\n",
       "      <td>0.036313</td>\n",
       "      <td>petal_width ~ 1 + petal_length + sepal_width</td>\n",
       "      <td>0.007740</td>\n",
       "      <td>blue</td>\n",
       "    </tr>\n",
       "    <tr>\n",
       "      <th>5</th>\n",
       "      <td>0.036575</td>\n",
       "      <td>petal_width ~ 1 + petal_length + sepal_length</td>\n",
       "      <td>0.008074</td>\n",
       "      <td>cyan</td>\n",
       "    </tr>\n",
       "    <tr>\n",
       "      <th>6</th>\n",
       "      <td>0.141968</td>\n",
       "      <td>petal_width ~ 1 + sepal_length + sepal_width</td>\n",
       "      <td>0.028287</td>\n",
       "      <td>purple</td>\n",
       "    </tr>\n",
       "    <tr>\n",
       "      <th>7</th>\n",
       "      <td>0.032446</td>\n",
       "      <td>petal_width ~ 1 + petal_length + sepal_length ...</td>\n",
       "      <td>0.006924</td>\n",
       "      <td>black</td>\n",
       "    </tr>\n",
       "  </tbody>\n",
       "</table>\n",
       "</div>"
      ],
      "text/plain": [
       "       bias                                        description  variance  \\\n",
       "0  0.589054                                    petal_width ~ 1  0.072021   \n",
       "1  0.037983                     petal_width ~ 1 + petal_length  0.008209   \n",
       "2  0.191311                     petal_width ~ 1 + sepal_length  0.025984   \n",
       "3  0.482659                      petal_width ~ 1 + sepal_width  0.091107   \n",
       "4  0.036313       petal_width ~ 1 + petal_length + sepal_width  0.007740   \n",
       "5  0.036575      petal_width ~ 1 + petal_length + sepal_length  0.008074   \n",
       "6  0.141968       petal_width ~ 1 + sepal_length + sepal_width  0.028287   \n",
       "7  0.032446  petal_width ~ 1 + petal_length + sepal_length ...  0.006924   \n",
       "\n",
       "    color  \n",
       "0     red  \n",
       "1  orange  \n",
       "2  yellow  \n",
       "3   green  \n",
       "4    blue  \n",
       "5    cyan  \n",
       "6  purple  \n",
       "7   black  "
      ]
     },
     "execution_count": 20,
     "metadata": {},
     "output_type": "execute_result"
    }
   ],
   "source": [
    "###### Display results\n",
    "\n",
    "results"
   ]
  },
  {
   "cell_type": "code",
   "execution_count": 21,
   "metadata": {},
   "outputs": [
    {
     "data": {
      "image/png": "[encoded data removed]",
      "text/plain": [
       "<Figure size 720x360 with 1 Axes>"
      ]
     },
     "metadata": {},
     "output_type": "display_data"
    }
   ],
   "source": [
    "###### Plot the bias versus the variance \n",
    "\n",
    "plt.figure(figsize=(10,5))\n",
    "for i in results.index:\n",
    "    plt.scatter(results.loc[i].bias, results.loc[i].variance, c=results.loc[i].color, label=results.loc[i].description)\n",
    "plt.xlabel('Bias')\n",
    "plt.ylabel('Variance')\n",
    "plt.legend()\n",
    "\n",
    "plt.show()"
   ]
  }
 ],
 "metadata": {
  "kernelspec": {
   "display_name": "Python 3",
   "language": "python",
   "name": "python3"
  },
  "language_info": {
   "codemirror_mode": {
    "name": "ipython",
    "version": 3
   },
   "file_extension": ".py",
   "mimetype": "text/x-python",
   "name": "python",
   "nbconvert_exporter": "python",
   "pygments_lexer": "ipython3",
   "version": "3.6.6"
  }
 },
 "nbformat": 4,
 "nbformat_minor": 2
}
