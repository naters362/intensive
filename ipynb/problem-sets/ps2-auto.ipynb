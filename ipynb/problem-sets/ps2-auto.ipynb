{
 "cells": [
  {
   "cell_type": "markdown",
   "metadata": {},
   "source": [
    "# Problem Set 2 - The AutoMPG Dataset"
   ]
  },
  {
   "cell_type": "markdown",
   "metadata": {},
   "source": [
    "The AutoMPG dataset is available from the UCI Machine Learning Repository at https://archive.ics.uci.edu/ml/machine-learning-databases/iris/iris.data\n",
    "\n",
    "The features are given in the following order:\n",
    "\n",
    "1. `mpg`: continuous \n",
    "2. `cylinders`: multi-valued discrete \n",
    "3. `displacement`: continuous \n",
    "4. `horsepower`: continuous \n",
    "5. `weight`: continuous \n",
    "6. `acceleration`: continuous \n",
    "7. `model` year: multi-valued discrete \n",
    "8. `origin`: multi-valued discrete \n",
    "9. `car_name`: string (unique for each instance)"
   ]
  },
  {
   "cell_type": "markdown",
   "metadata": {},
   "source": [
    "## Data Loading\n",
    "\n",
    "The data is available as part of the R library, `ISLR`."
   ]
  },
  {
   "cell_type": "code",
   "execution_count": null,
   "metadata": {},
   "outputs": [],
   "source": [
    "install.packages('ISLR')"
   ]
  },
  {
   "cell_type": "code",
   "execution_count": null,
   "metadata": {},
   "outputs": [],
   "source": [
    "library(ISLR)"
   ]
  },
  {
   "cell_type": "code",
   "execution_count": null,
   "metadata": {},
   "outputs": [],
   "source": [
    "dim(Auto)"
   ]
  },
  {
   "cell_type": "code",
   "execution_count": null,
   "metadata": {},
   "outputs": [],
   "source": [
    "head(Auto)"
   ]
  },
  {
   "cell_type": "code",
   "execution_count": null,
   "metadata": {},
   "outputs": [],
   "source": [
    "Auto$origin = as.factor(Auto$origin)"
   ]
  },
  {
   "cell_type": "code",
   "execution_count": null,
   "metadata": {},
   "outputs": [],
   "source": [
    "str(Auto)"
   ]
  },
  {
   "cell_type": "markdown",
   "metadata": {},
   "source": [
    "# simple linear regression \n",
    "\n",
    "(1) Use the `lm()` function to perform a simple linear regression with `mpg` as the response and `horsepower` as the predictor. \n",
    "   - Save the result of the fit as `lm.fit`.  "
   ]
  },
  {
   "cell_type": "code",
   "execution_count": null,
   "metadata": {
    "deletable": false,
    "nbgrader": {
     "checksum": "c630f412a1c4e69eb5ab211129d13188",
     "grade": false,
     "grade_id": "cell-86a866a9257bc6fc",
     "locked": false,
     "schema_version": 1,
     "solution": true
    }
   },
   "outputs": [],
   "source": [
    "# your code here\n",
    "stop('Not implemented.')"
   ]
  },
  {
   "cell_type": "code",
   "execution_count": null,
   "metadata": {
    "deletable": false,
    "editable": false,
    "nbgrader": {
     "checksum": "dec9894dc8b974a60dd33b80ba85e921",
     "grade": true,
     "grade_id": "cell-ec0a9e9fd8126af0",
     "locked": true,
     "points": 2,
     "schema_version": 1,
     "solution": false
    }
   },
   "outputs": [],
   "source": [
    "lm.fit\n",
    "stopifnot(all(names(lm.fit) == c('coefficients','residuals','effects','rank','fitted.values','assign','qr','df.residual','xlevels','call','terms','model')))\n",
    "stopifnot(round(lm.fit$coefficients[1], 4) == 39.9359)\n",
    "stopifnot(round(lm.fit$coefficients[2], 4) == -0.1578)"
   ]
  },
  {
   "cell_type": "markdown",
   "metadata": {},
   "source": [
    "\n",
    "(2) Use the `summary()` function to print the results."
   ]
  },
  {
   "cell_type": "code",
   "execution_count": null,
   "metadata": {
    "deletable": false,
    "nbgrader": {
     "checksum": "b76012f584385d630c76a5a72eab9858",
     "grade": false,
     "grade_id": "cell-60b9c00400d6177c",
     "locked": false,
     "schema_version": 1,
     "solution": true
    }
   },
   "outputs": [],
   "source": [
    "# your code here\n",
    "stop('Not implemented.')"
   ]
  },
  {
   "cell_type": "markdown",
   "metadata": {},
   "source": [
    "(3) Answer these questions:\n",
    "1. True/False: There a relationship between the predictor and the response.\n",
    "1. How strong (numerically) is the relationship between the predictor and the response?\n",
    "1. True/False: If the predictor increases, the model predicts that the response will increase. \n",
    "1. What is the predicted mpg associated with a horsepower of 98? What are the associated 95% confidence and prediction intervals?"
   ]
  },
  {
   "cell_type": "code",
   "execution_count": null,
   "metadata": {
    "deletable": false,
    "nbgrader": {
     "checksum": "dbad17733daf56cd9346465282d0bf55",
     "grade": false,
     "grade_id": "cell-f72208529768f94c",
     "locked": false,
     "schema_version": 1,
     "solution": true
    }
   },
   "outputs": [],
   "source": [
    "# your code here\n",
    "stop('Not implemented.')"
   ]
  },
  {
   "cell_type": "code",
   "execution_count": null,
   "metadata": {
    "deletable": false,
    "editable": false,
    "nbgrader": {
     "checksum": "190735bc7ede81ad63a3cfb6f02bf5ce",
     "grade": true,
     "grade_id": "cell-ced80862f5c043da",
     "locked": true,
     "points": 8,
     "schema_version": 1,
     "solution": false
    }
   },
   "outputs": [],
   "source": [
    "question_3_1()\n",
    "question_3_2()\n",
    "question_3_3()\n",
    "question_3_4()\n",
    "\n",
    "# HIDDEN TESTS HERE"
   ]
  },
  {
   "cell_type": "markdown",
   "metadata": {},
   "source": [
    "(4) Plot the response and the predictor. Use the `abline()` function to display the least squares regression line."
   ]
  },
  {
   "cell_type": "code",
   "execution_count": null,
   "metadata": {
    "deletable": false,
    "nbgrader": {
     "checksum": "e6f8463104c5d9d0540c297b2e861913",
     "grade": false,
     "grade_id": "cell-d4b5e931b1e688dc",
     "locked": false,
     "schema_version": 1,
     "solution": true
    }
   },
   "outputs": [],
   "source": [
    "# your code here\n",
    "stop('Not implemented.')"
   ]
  },
  {
   "cell_type": "markdown",
   "metadata": {},
   "source": [
    "### Single Variable Regression on Each Feature"
   ]
  },
  {
   "cell_type": "code",
   "execution_count": null,
   "metadata": {},
   "outputs": [],
   "source": [
    "features = c(\"cylinders\",\"displacement\",\"horsepower\",\"weight\",\"acceleration\",\"year\")\n",
    "numerical_subset = Auto[,c(features, 'mpg')]"
   ]
  },
  {
   "cell_type": "code",
   "execution_count": null,
   "metadata": {},
   "outputs": [],
   "source": [
    "summary(numerical_subset)"
   ]
  },
  {
   "cell_type": "code",
   "execution_count": null,
   "metadata": {},
   "outputs": [],
   "source": [
    "for(i in 1:length(features)) {\n",
    "    fit_formula = as.formula(paste(\"mpg ~ \", features[i]))\n",
    "    print(lm(fit_formula, data = Auto)$coefficients[2])\n",
    "}"
   ]
  },
  {
   "cell_type": "markdown",
   "metadata": {},
   "source": [
    "(5) Answer these questions about the single variable regression on each feature. \n",
    "\n",
    "1. True/False: Accoriding to these results, `year` is the strongest predictor of `mpg`.\n",
    "1. True/False: It is safe to say that `weight` is not an important feature."
   ]
  },
  {
   "cell_type": "code",
   "execution_count": null,
   "metadata": {
    "deletable": false,
    "nbgrader": {
     "checksum": "317a12df5d40abf4c491c692f7f91435",
     "grade": false,
     "grade_id": "cell-0c208a7b68c9797b",
     "locked": false,
     "schema_version": 1,
     "solution": true
    }
   },
   "outputs": [],
   "source": [
    "# your code here\n",
    "stop('Not implemented.')"
   ]
  },
  {
   "cell_type": "code",
   "execution_count": null,
   "metadata": {
    "deletable": false,
    "editable": false,
    "nbgrader": {
     "checksum": "da3b29e1e79d88b808640120880b8ab1",
     "grade": true,
     "grade_id": "cell-bf37a13780534947",
     "locked": true,
     "points": 0,
     "schema_version": 1,
     "solution": false
    }
   },
   "outputs": [],
   "source": [
    "question_5_1()\n",
    "question_5_2()\n",
    "\n",
    "# HIDDEN TESTS HERE"
   ]
  },
  {
   "cell_type": "markdown",
   "metadata": {},
   "source": [
    "## multiple linear regression"
   ]
  },
  {
   "cell_type": "markdown",
   "metadata": {},
   "source": [
    "This question involves the use of multiple linear regression on the Auto data set."
   ]
  },
  {
   "cell_type": "markdown",
   "metadata": {},
   "source": [
    "(6) Produce a scatterplot matrix which includes all of the variables in the data set."
   ]
  },
  {
   "cell_type": "code",
   "execution_count": null,
   "metadata": {},
   "outputs": [],
   "source": [
    "pairs(Auto)"
   ]
  },
  {
   "cell_type": "markdown",
   "metadata": {},
   "source": [
    "(7) Compute the matrix of correlations between the numerical variables (exclude `origin` and `name`) using the function `cor()`. \n",
    "\n",
    "   - store the resulting correation matrix as the variable `auto_cor_mat`."
   ]
  },
  {
   "cell_type": "code",
   "execution_count": null,
   "metadata": {
    "deletable": false,
    "nbgrader": {
     "checksum": "844d39c85e448f07697e638a68ed213e",
     "grade": false,
     "grade_id": "cell-1899adab92b2b7de",
     "locked": false,
     "schema_version": 1,
     "solution": true
    }
   },
   "outputs": [],
   "source": [
    "# your code here\n",
    "stop('Not implemented.')"
   ]
  },
  {
   "cell_type": "code",
   "execution_count": null,
   "metadata": {
    "deletable": false,
    "editable": false,
    "nbgrader": {
     "checksum": "99690604c48173aaa9ef58ed968c64cb",
     "grade": true,
     "grade_id": "cell-c7a1429523af0a37",
     "locked": true,
     "points": 3,
     "schema_version": 1,
     "solution": false
    }
   },
   "outputs": [],
   "source": [
    "auto_cor_mat\n",
    "stopifnot(dim(auto_cor_mat) == c(7,7))\n",
    "stopifnot(all(round(auto_cor_mat[\"mpg\", c(\"cylinders\", \"horsepower\", \"year\")], 2) == c(-0.78, -0.78, 0.58)))"
   ]
  },
  {
   "cell_type": "markdown",
   "metadata": {},
   "source": [
    "(8) Use the `lm()` function to perform a multiple linear regression with `mpg` as the response and all other variables except `origin` and `name` as the predictors. Use the `summary()` function to print the results. \n",
    "\n",
    "Recall that these were the coefficients identified when each was fit individually:\n",
    "\n",
    "    cylinders \n",
    "    -3.558078 \n",
    "    displacement \n",
    "     -0.06005143 \n",
    "    horsepower \n",
    "    -0.1578447 \n",
    "          weight \n",
    "    -0.007647343 \n",
    "    acceleration \n",
    "        1.197624 \n",
    "        year \n",
    "    1.230035 "
   ]
  },
  {
   "cell_type": "code",
   "execution_count": null,
   "metadata": {
    "deletable": false,
    "nbgrader": {
     "checksum": "1c7571ef827075d5d4f6d0831aa593f4",
     "grade": false,
     "grade_id": "cell-336a7033e55e965b",
     "locked": false,
     "schema_version": 1,
     "solution": true
    }
   },
   "outputs": [],
   "source": [
    "# your code here\n",
    "stop('Not implemented.')"
   ]
  },
  {
   "cell_type": "markdown",
   "metadata": {},
   "source": [
    "Answer these questions: \n",
    "1. TRUE/FALSE: Every feature is less important in the full model than when fit individually. \n",
    "2. TRUE/FALSE: According to this model, The most important feature is `cylinders`.\n",
    "3. TRUE/FALSE: According to this model, `cylinders`, `acceleration`, and `year` are the most important features.\n"
   ]
  },
  {
   "cell_type": "code",
   "execution_count": null,
   "metadata": {
    "deletable": false,
    "nbgrader": {
     "checksum": "0ea181e35aa35f572661b50c37eb3460",
     "grade": false,
     "grade_id": "cell-987e04dab94191ef",
     "locked": false,
     "schema_version": 1,
     "solution": true
    }
   },
   "outputs": [],
   "source": [
    "# your code here\n",
    "stop('Not implemented.')"
   ]
  },
  {
   "cell_type": "code",
   "execution_count": null,
   "metadata": {
    "deletable": false,
    "editable": false,
    "nbgrader": {
     "checksum": "f6f7e42ea488a1dbc9bee4617d5c2ded",
     "grade": true,
     "grade_id": "cell-6079839089bbf489",
     "locked": true,
     "points": 0,
     "schema_version": 1,
     "solution": false
    }
   },
   "outputs": [],
   "source": [
    "question_8_1()\n",
    "question_8_2()\n",
    "question_8_3()\n",
    "\n",
    "# HIDDEN TESTS HERE"
   ]
  }
 ],
 "metadata": {
  "kernelspec": {
   "display_name": "R",
   "language": "R",
   "name": "ir"
  },
  "language_info": {
   "codemirror_mode": "r",
   "file_extension": ".r",
   "mimetype": "text/x-r-source",
   "name": "R",
   "pygments_lexer": "r",
   "version": "3.4.1"
  }
 },
 "nbformat": 4,
 "nbformat_minor": 2
}
