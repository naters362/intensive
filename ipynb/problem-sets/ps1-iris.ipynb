{
 "cells": [
  {
   "cell_type": "markdown",
   "metadata": {},
   "source": [
    "# Problem Set 1 - The Iris Dataset"
   ]
  },
  {
   "cell_type": "code",
   "execution_count": null,
   "metadata": {},
   "outputs": [],
   "source": [
    "import matplotlib.pyplot as plt\n",
    "import pandas as pd\n",
    "import seaborn as sns\n",
    "from IPython.display import display\n",
    "\n",
    "%matplotlib inline"
   ]
  },
  {
   "cell_type": "markdown",
   "metadata": {},
   "source": [
    "The Iris dataset is available from the UCI Machine Learning Repository at https://archive.ics.uci.edu/ml/machine-learning-databases/iris/iris.data.\n",
    "\n",
    "The features are given in the following order:\n",
    "\n",
    "    sepal length\n",
    "    sepal width\n",
    "    petal length\n",
    "    petal width\n",
    "    flower class "
   ]
  },
  {
   "cell_type": "markdown",
   "metadata": {},
   "source": [
    "Please use the following as the column names in your dataframe:"
   ]
  },
  {
   "cell_type": "code",
   "execution_count": null,
   "metadata": {},
   "outputs": [],
   "source": [
    "columns = [\n",
    "    'sepal_length',\n",
    "    'sepal_width',\n",
    "    'petal_length',\n",
    "    'petal_width',\n",
    "    'flower_class'\n",
    "]"
   ]
  },
  {
   "cell_type": "markdown",
   "metadata": {},
   "source": [
    "## Load the Iris Dataset\n",
    "\n",
    "Read the Iris data into a Pandas DataFrame using the `pd.read_csv()` function. Load the data using the URL to the data set at the UCI Machine Learning Repository."
   ]
  },
  {
   "cell_type": "code",
   "execution_count": null,
   "metadata": {
    "deletable": false,
    "nbgrader": {
     "checksum": "fda31ae3ec82c868fcfaf83b809bf860",
     "grade": false,
     "grade_id": "cell-c12569356effd436",
     "locked": false,
     "schema_version": 1,
     "solution": true
    }
   },
   "outputs": [],
   "source": [
    "def load_dataframe():\n",
    "    \"\"\"\n",
    "    Write a function that returns the iris dataset loaded in a dataframe. \n",
    "    Make sure that the columns are properly named using the variable\n",
    "    columns defined in the previous cell and that header rows\n",
    "    are properly handled.\n",
    "    \"\"\"\n",
    "    # Write your code here.\n",
    "    \n",
    "    return iris_df"
   ]
  },
  {
   "cell_type": "markdown",
   "metadata": {},
   "source": [
    "Your `load_dataframe` function should pass all of these tests. If all tests pass, you will see the text `\"All tests pass.\"` following the execution of the cell."
   ]
  },
  {
   "cell_type": "code",
   "execution_count": null,
   "metadata": {
    "deletable": false,
    "editable": false,
    "nbgrader": {
     "checksum": "11b7227bf5a23a618604ff2f1af174e3",
     "grade": true,
     "grade_id": "cell-3332c8262d601bde",
     "locked": true,
     "points": 5,
     "schema_version": 1,
     "solution": false
    }
   },
   "outputs": [],
   "source": [
    "iris_df = load_dataframe()\n",
    "assert type(iris_df) == pd.DataFrame\n",
    "assert iris_df.shape == (150,5)\n",
    "assert list(iris_df.columns) == columns\n",
    "assert list(iris_df.iloc[4]) == [5.0,3.6,1.4,0.2, \"Iris-setosa\"]\n",
    "print(\"All tests pass.\")"
   ]
  },
  {
   "cell_type": "markdown",
   "metadata": {},
   "source": [
    "Display the head of your DataFrame to verify that the data was properly loaded."
   ]
  },
  {
   "cell_type": "code",
   "execution_count": null,
   "metadata": {},
   "outputs": [],
   "source": [
    "iris_df.head()"
   ]
  },
  {
   "cell_type": "markdown",
   "metadata": {},
   "source": [
    "Display the shape of your DataFrame to verify that the DataFrame has the correct shape "
   ]
  },
  {
   "cell_type": "code",
   "execution_count": null,
   "metadata": {},
   "outputs": [],
   "source": [
    "iris_df.shape"
   ]
  },
  {
   "cell_type": "markdown",
   "metadata": {},
   "source": [
    "## Describe the DataFrame\n",
    "\n",
    "Write a function that returns the description of a DataFrame."
   ]
  },
  {
   "cell_type": "code",
   "execution_count": null,
   "metadata": {
    "deletable": false,
    "nbgrader": {
     "checksum": "10fbd981c6d5411384573ab82f80e71b",
     "grade": false,
     "grade_id": "cell-1f7ab55565ad40c2",
     "locked": false,
     "schema_version": 1,
     "solution": true
    }
   },
   "outputs": [],
   "source": [
    "def dataframe_description(dataframe):\n",
    "    \"\"\"\n",
    "    Write a function that returns the description of a dataframe.\n",
    "    \"\"\"\n",
    "    # Write your code here.\n",
    "    \n",
    "    return description"
   ]
  },
  {
   "cell_type": "markdown",
   "metadata": {},
   "source": [
    "Your `dataframe_description` function should pass these tests. If all tests pass you should see the text `\"All tests pass.\"` and the description of the Iris Dataframe."
   ]
  },
  {
   "cell_type": "code",
   "execution_count": null,
   "metadata": {
    "deletable": false,
    "editable": false,
    "nbgrader": {
     "checksum": "08649b53d5a365ad16cf22c33e8c5acb",
     "grade": true,
     "grade_id": "cell-a60bed8c3a336cca",
     "locked": true,
     "points": 3,
     "schema_version": 1,
     "solution": false
    }
   },
   "outputs": [],
   "source": [
    "assert dataframe_description(iris_df).shape == (8,4)\n",
    "assert list(dataframe_description(iris_df).index) == [\n",
    "    'count','mean','std','min',\n",
    "    '25%','50%','75%','max'\n",
    "]\n",
    "assert list(dataframe_description(iris_df).loc['min']) == [4.3,2.0,1.0,0.1]\n",
    "print(\"All tests pass.\")\n",
    "dataframe_description(iris_df)"
   ]
  },
  {
   "cell_type": "markdown",
   "metadata": {},
   "source": [
    "## Use `sns.boxplot()` to Display Box Plots of the Features"
   ]
  },
  {
   "cell_type": "code",
   "execution_count": null,
   "metadata": {},
   "outputs": [],
   "source": [
    "sns.boxplot(iris_df)"
   ]
  },
  {
   "cell_type": "markdown",
   "metadata": {},
   "source": [
    "## Use `sns.distplot` to display Distribution Plots of the Features"
   ]
  },
  {
   "cell_type": "code",
   "execution_count": null,
   "metadata": {},
   "outputs": [],
   "source": [
    "_, ax = plt.subplots(1,4, figsize=(20,5))\n",
    "sns.distplot(iris_df.sepal_length, ax=ax[0])\n",
    "sns.distplot(iris_df.sepal_width, ax=ax[1])\n",
    "sns.distplot(iris_df.petal_length, ax=ax[2])\n",
    "sns.distplot(iris_df.petal_width, ax=ax[3])"
   ]
  },
  {
   "cell_type": "markdown",
   "metadata": {},
   "source": [
    "## True/False\n",
    "\n",
    "1. Sepal Width is qualitative.\n",
    "2. Sepal Length is quantitative.\n",
    "3. Petal Width is quantitative.\n",
    "4. Petal Length is qualitative.\n",
    "5. Flower Class is qualitative.\n",
    "6. If predicting Flower Class, this is a classification problem. "
   ]
  },
  {
   "cell_type": "code",
   "execution_count": null,
   "metadata": {
    "deletable": false,
    "nbgrader": {
     "checksum": "b257ad8f4725a6e7298afe403213cadf",
     "grade": false,
     "grade_id": "cell-631a6c6c400de3ef",
     "locked": false,
     "schema_version": 1,
     "solution": true
    }
   },
   "outputs": [],
   "source": [
    "def true_false_1():\n",
    "    # Write your code here.\n",
    "    \n",
    "    return answer\n",
    "\n",
    "def true_false_2():\n",
    "    # Write your code here.\n",
    "    \n",
    "    return answer\n",
    "\n",
    "def true_false_3():\n",
    "    # Write your code here.\n",
    "    \n",
    "    return answer\n",
    "\n",
    "def true_false_4():\n",
    "    # Write your code here.\n",
    "    \n",
    "    return answer\n",
    "\n",
    "def true_false_5():\n",
    "    # Write your code here.\n",
    "    \n",
    "    return answer\n",
    "\n",
    "def true_false_6():\n",
    "    # Write your code here.\n",
    "    \n",
    "    return answer"
   ]
  },
  {
   "cell_type": "code",
   "execution_count": null,
   "metadata": {
    "deletable": false,
    "editable": false,
    "nbgrader": {
     "checksum": "059e17290a5ac6f76605a8588ba148d1",
     "grade": true,
     "grade_id": "cell-827a886b6e157576",
     "locked": true,
     "points": 3,
     "schema_version": 1,
     "solution": false
    }
   },
   "outputs": [],
   "source": [
    "# These tests are Hidden.\n"
   ]
  },
  {
   "cell_type": "markdown",
   "metadata": {},
   "source": [
    "## Numerical Response\n",
    "\n",
    "1. What is the range of petal width?\n",
    "2. What is the mean of sepal length?\n",
    "3. What is the median of petal length?\n",
    "4. What is the standard deviation of sepal width?"
   ]
  },
  {
   "cell_type": "code",
   "execution_count": null,
   "metadata": {
    "deletable": false,
    "nbgrader": {
     "checksum": "a1cfdf9cea49a9f88589f7167bcb6907",
     "grade": false,
     "grade_id": "cell-b38f030fd65ec9d0",
     "locked": false,
     "schema_version": 1,
     "solution": true
    }
   },
   "outputs": [],
   "source": [
    "def numerical_1():\n",
    "    \"\"\"Express your answer as a tuple of two floating-point numbers \n",
    "    each with one number after the decimal.\"\"\"\n",
    "    # Write your code here.\n",
    "    \n",
    "    return answer\n",
    "\n",
    "def numerical_2():\n",
    "    \"\"\"Express your answer a floating-point number \n",
    "    with two numbers after the decimal.\"\"\"\n",
    "    # Write your code here.\n",
    "    \n",
    "    return answer\n",
    "\n",
    "def numerical_3():\n",
    "    \"\"\"Express your answer a floating-point number \n",
    "    with two numbers after the decimal.\"\"\"\n",
    "    # Write your code here.\n",
    "    \n",
    "    return answer\n",
    "\n",
    "def numerical_4():\n",
    "    \"\"\"Express your answer a floating-point number \n",
    "    with two numbers after the decimal.\"\"\"\n",
    "    # Write your code here.\n",
    "    \n",
    "    return answer"
   ]
  },
  {
   "cell_type": "code",
   "execution_count": null,
   "metadata": {
    "deletable": false,
    "editable": false,
    "nbgrader": {
     "checksum": "bace7c151c79cc21698c63d44925f3eb",
     "grade": true,
     "grade_id": "cell-7df840b1890dbc9c",
     "locked": true,
     "points": 3,
     "schema_version": 1,
     "solution": false
    }
   },
   "outputs": [],
   "source": [
    "# These tests are Hidden.\n"
   ]
  }
 ],
 "metadata": {
  "kernelspec": {
   "display_name": "Python 3",
   "language": "python",
   "name": "python3"
  },
  "language_info": {
   "codemirror_mode": {
    "name": "ipython",
    "version": 3
   },
   "file_extension": ".py",
   "mimetype": "text/x-python",
   "name": "python",
   "nbconvert_exporter": "python",
   "pygments_lexer": "ipython3",
   "version": "3.6.4"
  }
 },
 "nbformat": 4,
 "nbformat_minor": 2
}
