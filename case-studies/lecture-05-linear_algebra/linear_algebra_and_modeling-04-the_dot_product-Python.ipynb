{
 "cells": [
  {
   "cell_type": "code",
   "execution_count": 1,
   "metadata": {
    "tags": [
     "remove"
    ]
   },
   "outputs": [],
   "source": [
    "%run preamble.py\n",
    "%matplotlib inline"
   ]
  },
  {
   "cell_type": "markdown",
   "metadata": {},
   "source": [
    "# The Dot Product"
   ]
  },
  {
   "cell_type": "markdown",
   "metadata": {},
   "source": [
    "Let's bring in `a` from before. "
   ]
  },
  {
   "cell_type": "code",
   "execution_count": 2,
   "metadata": {},
   "outputs": [],
   "source": [
    "a = as_col_vectors_df.a"
   ]
  },
  {
   "cell_type": "markdown",
   "metadata": {},
   "source": [
    "## The length of a vector\n",
    "\n",
    "The length of a vector is the number of elements in that vector. "
   ]
  },
  {
   "cell_type": "code",
   "execution_count": 3,
   "metadata": {},
   "outputs": [
    {
     "data": {
      "text/plain": [
       "2"
      ]
     },
     "execution_count": 3,
     "metadata": {},
     "output_type": "execute_result"
    }
   ],
   "source": [
    "len(a)"
   ]
  },
  {
   "cell_type": "markdown",
   "metadata": {},
   "source": [
    "`a` and `h` have the same length. "
   ]
  },
  {
   "cell_type": "code",
   "execution_count": 4,
   "metadata": {},
   "outputs": [
    {
     "data": {
      "text/plain": [
       "True"
      ]
     },
     "execution_count": 4,
     "metadata": {},
     "output_type": "execute_result"
    }
   ],
   "source": [
    "len(a) == len(h)"
   ]
  },
  {
   "cell_type": "markdown",
   "metadata": {},
   "source": [
    "## The magnitude of a vector\n",
    "\n",
    "The magnitude of a vector can be calculated with the `numpy.linalg.norm` function. "
   ]
  },
  {
   "cell_type": "code",
   "execution_count": 5,
   "metadata": {},
   "outputs": [
    {
     "data": {
      "text/plain": [
       "2.2360679774997898"
      ]
     },
     "execution_count": 5,
     "metadata": {},
     "output_type": "execute_result"
    }
   ],
   "source": [
    "np.linalg.norm(a)"
   ]
  },
  {
   "cell_type": "markdown",
   "metadata": {},
   "source": [
    "`a` and `h` do not have the same magnitude. "
   ]
  },
  {
   "cell_type": "code",
   "execution_count": 6,
   "metadata": {},
   "outputs": [
    {
     "data": {
      "text/plain": [
       "False"
      ]
     },
     "execution_count": 6,
     "metadata": {},
     "output_type": "execute_result"
    }
   ],
   "source": [
    "np.linalg.norm(a) == np.linalg.norm(h)"
   ]
  },
  {
   "cell_type": "markdown",
   "metadata": {},
   "source": [
    "## Magnitude as Euclidean Distance\n",
    "\n",
    "The magnitude of a 2-d vector is something you have certainly seen before.\n",
    "\n",
    "Create component vectors along the $x$ and $y$ axes."
   ]
  },
  {
   "cell_type": "code",
   "execution_count": 7,
   "metadata": {},
   "outputs": [
    {
     "data": {
      "image/png": "[encoded data removed]",
      "text/plain": [
       "<Figure size 864x432 with 1 Axes>"
      ]
     },
     "metadata": {},
     "output_type": "display_data"
    }
   ],
   "source": [
    "initialize_2d_plot(-2,3,-2,3)\n",
    "draw_vector(a)\n",
    "draw_vector((-1,0))\n",
    "draw_vector((0,2),tail=(-1,0))"
   ]
  },
  {
   "cell_type": "markdown",
   "metadata": {},
   "source": [
    "### Euclidean Distance\n",
    "\n",
    "The magnitude of $a$ is\n",
    "\n",
    "$$\\rvert\\rvert a \\rvert\\rvert = \\sqrt{a_x^2+a_y^2}$$\n",
    "\n",
    "which should be all to familiar to you as the Pythagorean Theorem.\n",
    "\n",
    "Incredibly, this generalizes to $p$-dimensional vectors.\n",
    "\n",
    "$$\\rvert\\rvert a_p \\rvert\\rvert = \\sqrt{a_1^2+a_2^2\\dots+a_p^2}$$\n",
    "\n",
    "#### The $\\ell_2$-Norm\n",
    "\n",
    "This computation has a fancy name, the $\\ell_2$-norm. \n",
    "\n",
    "We just saw this above with the function `np.linalg.norm`."
   ]
  },
  {
   "cell_type": "code",
   "execution_count": 8,
   "metadata": {},
   "outputs": [
    {
     "data": {
      "text/plain": [
       "2.2360679774997898"
      ]
     },
     "execution_count": 8,
     "metadata": {},
     "output_type": "execute_result"
    }
   ],
   "source": [
    "np.sqrt(a[0]**2 + a[1]**2)"
   ]
  },
  {
   "cell_type": "code",
   "execution_count": 10,
   "metadata": {},
   "outputs": [
    {
     "data": {
      "text/plain": [
       "2.2360679774997898"
      ]
     },
     "execution_count": 10,
     "metadata": {},
     "output_type": "execute_result"
    }
   ],
   "source": [
    "np.linalg.norm(a)"
   ]
  },
  {
   "cell_type": "markdown",
   "metadata": {},
   "source": [
    "We will see our friend, the $\\ell_2$-norm again. "
   ]
  },
  {
   "cell_type": "markdown",
   "metadata": {},
   "source": [
    "For now, let's consider the first computation. \n",
    "\n",
    "$$\\rvert\\rvert a \\rvert\\rvert = \\sqrt{a_x^2+a_y^2}$$\n",
    "\n",
    "We can rewrite this as \n",
    "\n",
    "$$\\rvert\\rvert a \\rvert\\rvert = \\sqrt{a_xa_x+a_ya_y}$$"
   ]
  },
  {
   "cell_type": "markdown",
   "metadata": {},
   "source": [
    "Let's consider just the computation under the radical \n",
    "\n",
    "\n",
    "$$a_xa_x+a_ya_y$$"
   ]
  },
  {
   "cell_type": "markdown",
   "metadata": {},
   "source": [
    "This is actually a special computation, the **dot product**."
   ]
  },
  {
   "cell_type": "markdown",
   "metadata": {},
   "source": [
    "## Definition of the Dot Product\n",
    "\n",
    "The dot product, also known as the inner product, is an operation defined over a vector space that yields a scalar. \n",
    "\n",
    "We can think of is as a mapping of two vectors to a scalar value\n",
    "\n",
    "$$f: \\mathbf{u}, \\mathbf{v} \\mapsto \\mathbb{R}$$\n",
    "\n",
    "or the function \n",
    "\n",
    "$$f(\\mathbf{u}, \\mathbf{v}) = \\alpha$$\n",
    "\n",
    "where $\\alpha \\in \\mathbb{R}$. \n",
    "\n",
    "#### Example\n",
    "\n",
    "Given\n",
    "\n",
    "$$\\mathbf{u}=(1,0,-1)$$\n",
    "\n",
    "$$\\mathbf{v}=(-3,3,-2)$$\n",
    "\n",
    "The dot product of $\\mathbf{u}$ and $\\mathbf{v}$ is $\\langle \\mathbf{u}, \\mathbf{v}\\rangle$ where\n",
    "\n",
    "$$\\langle \\mathbf{u}, \\mathbf{v}\\rangle = 1\\cdot(-3)+0\\cdot3+(-1)\\cdot(-2)=-1$$\n",
    "\n",
    "$$\\langle \\mathbf{u}, \\mathbf{v}\\rangle = \\sum u_i\\cdot v_i$$"
   ]
  },
  {
   "cell_type": "code",
   "execution_count": 11,
   "metadata": {},
   "outputs": [
    {
     "data": {
      "text/plain": [
       "-1"
      ]
     },
     "execution_count": 11,
     "metadata": {},
     "output_type": "execute_result"
    }
   ],
   "source": [
    "u = np.array((1,0,-1))\n",
    "v = np.array((-3,3,-2))\n",
    "u.dot(v)"
   ]
  },
  {
   "cell_type": "markdown",
   "metadata": {},
   "source": [
    "**NOTE:** $$\\langle \\mathbf{u}, \\mathbf{v}\\rangle = \\langle \\mathbf{v}, \\mathbf{u}\\rangle$$ for all $\\mathbf{u}$, $\\mathbf{v}$ "
   ]
  },
  {
   "cell_type": "markdown",
   "metadata": {},
   "source": [
    "We will need this later."
   ]
  },
  {
   "cell_type": "markdown",
   "metadata": {},
   "source": [
    "#### The Magnitude is the Square Root of the Dot Product of a Vector with Itself"
   ]
  },
  {
   "cell_type": "markdown",
   "metadata": {},
   "source": [
    "Knowing this, it is easy to see that\n",
    "\n",
    "$$a_xa_x+a_ya_y$$ \n",
    "\n",
    "is the dot product of $\\mathbf{a}$ with itself.\n",
    "\n",
    "Then \n",
    "\n",
    "$$\\rvert\\rvert a \\rvert\\rvert = \\sqrt{\\langle \\mathbf{a}, \\mathbf{a}\\rangle}$$"
   ]
  },
  {
   "cell_type": "code",
   "execution_count": 12,
   "metadata": {},
   "outputs": [
    {
     "data": {
      "text/plain": [
       "2.2360679774997898"
      ]
     },
     "execution_count": 12,
     "metadata": {},
     "output_type": "execute_result"
    }
   ],
   "source": [
    "np.linalg.norm(a)"
   ]
  },
  {
   "cell_type": "code",
   "execution_count": 13,
   "metadata": {},
   "outputs": [
    {
     "data": {
      "text/plain": [
       "True"
      ]
     },
     "execution_count": 13,
     "metadata": {},
     "output_type": "execute_result"
    }
   ],
   "source": [
    "a.dot(a) == a[0]**2 + a[1]**2"
   ]
  },
  {
   "cell_type": "code",
   "execution_count": 14,
   "metadata": {},
   "outputs": [
    {
     "data": {
      "text/plain": [
       "2.2360679774997898"
      ]
     },
     "execution_count": 14,
     "metadata": {},
     "output_type": "execute_result"
    }
   ],
   "source": [
    "np.sqrt(a.dot(a))"
   ]
  },
  {
   "cell_type": "markdown",
   "metadata": {},
   "source": [
    "### Geometric Interpretation of the Dot Product\n",
    "\n",
    "Geometrically, the dot product is the magnitude of the project of one vector onto another vector. the green vector is $proj_{ab}$, the **projection** of $\\mathbf a$ onto $\\mathbf b$ - it is the part of $\\mathbf a$ that is in the same direction as $\\mathbf b$. The red vector is the **error vector**, the part of $\\mathbf a$ that is *not* in the same direction as $\\mathbf b$."
   ]
  },
  {
   "cell_type": "code",
   "execution_count": null,
   "metadata": {},
   "outputs": [],
   "source": [
    "b_norm = np.linalg.norm(b)\n",
    "b_hat = b/b_norm\n",
    "a_dot_b = a.dot(b)\n",
    "proj_ab = b_hat*(a_dot_b/b_norm)\n",
    "err = a - proj_ab"
   ]
  },
  {
   "cell_type": "code",
   "execution_count": null,
   "metadata": {},
   "outputs": [],
   "source": [
    "initialize_2d_plot(x_min=-6, x_max=8, y_min=-1, y_max=6)\n",
    "draw_vector(a)\n",
    "draw_vector(proj_ab, kwargs={'color':'green', 'linewidth':6, 'alpha':0.3})\n",
    "draw_vector(b)\n",
    "draw_vector(err,proj_ab, kwargs={'head_width':.1, 'head_length':.25, 'color':'red', 'linewidth':2, 'alpha':0.3})"
   ]
  },
  {
   "cell_type": "markdown",
   "metadata": {},
   "source": [
    "##### The projection of a vector onto itself is the vector itself!!!\n",
    "\n",
    "Thus, the dot product is the magnitude of the vector!"
   ]
  },
  {
   "cell_type": "markdown",
   "metadata": {},
   "source": [
    "### A Note on Writing Vectors\n",
    "\n",
    "These two forms of vector representation are equivalent \n",
    "\n",
    "$$(a,b,c,d)=\\left(\\begin{matrix}a\\\\b\\\\c\\\\d\\end{matrix}\\right)$$\n",
    "\n",
    "This form is known as the **column vector** form. \n",
    "\n",
    "A vector written as boldface later e.g. $\\mathbf{u}$ is typically considered to be in column vector form.\n",
    "\n",
    "#### A Note on Writing Vectors\n",
    "\n",
    "A vector written as \n",
    "\n",
    "$$\\left(\\begin{matrix}e& f& g& h\\end{matrix}\\right)$$ \n",
    "\n",
    "is considered to be written in the **row vector** form.\n",
    "\n",
    "#### Changing Vectors Forms\n",
    "\n",
    "Vectors can be transformed from one form to the other via the transpose operation.\n",
    "\n",
    "$$\\mathbf{m}=(1,2,3,4)$$\n",
    "\n",
    "then\n",
    "\n",
    "$$\\mathbf{m}^T=\\left(\\begin{matrix}1&2&3&4\\end{matrix}\\right)$$\n",
    "\n",
    "#### `.T` as the transpose \n",
    "\n",
    "We can achieve the transpose in `numpy` with the `.T` attribute.\n",
    "\n",
    "Note that the transpose on a vector is weird. This is because `numpy` doesn't really draw clear distinctions between row vectors and column vectors. "
   ]
  },
  {
   "cell_type": "code",
   "execution_count": null,
   "metadata": {},
   "outputs": [],
   "source": [
    "a.T == a"
   ]
  },
  {
   "cell_type": "markdown",
   "metadata": {},
   "source": [
    "#### The importance of row and column vectors\n",
    "\n",
    "This is important because we think of the dot product as **a row vector times a column vector**\n",
    "\n",
    "\n",
    "$$\\langle \\mathbf{u}, \\mathbf{v}\\rangle = \\sum u_i\\cdot v_i = \\mathbf{u}^T\\mathbf{v}=\\left(\\begin{matrix}1&0&-1\\end{matrix}\\right)\\left(\\begin{matrix}-3\\\\3\\\\-2\\end{matrix}\\right)= 1\\cdot(-3)+0\\cdot+(-1)\\cdot(-2)=1$$"
   ]
  }
 ],
 "metadata": {
  "kernelspec": {
   "display_name": "Python 3",
   "language": "python",
   "name": "python3"
  },
  "language_info": {
   "codemirror_mode": {
    "name": "ipython",
    "version": 3
   },
   "file_extension": ".py",
   "mimetype": "text/x-python",
   "name": "python",
   "nbconvert_exporter": "python",
   "pygments_lexer": "ipython3",
   "version": "3.6.5"
  }
 },
 "nbformat": 4,
 "nbformat_minor": 2
}
