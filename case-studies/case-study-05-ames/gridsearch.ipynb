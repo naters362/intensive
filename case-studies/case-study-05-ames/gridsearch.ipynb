{
 "cells": [
  {
   "cell_type": "markdown",
   "metadata": {},
   "source": [
    "### Grid Search with Cross-Validation"
   ]
  },
  {
   "cell_type": "code",
   "execution_count": 1,
   "metadata": {},
   "outputs": [],
   "source": [
    "###### Load the preprocessed Datasets\n",
    "\n",
    "%run src/preprocessing-final.py"
   ]
  },
  {
   "cell_type": "code",
   "execution_count": 2,
   "metadata": {},
   "outputs": [
    {
     "name": "stdout",
     "output_type": "stream",
     "text": [
      "Variable    Type         Data/Info\n",
      "----------------------------------\n",
      "dataset_1   DataFrame          MSSubClass_20  MSSu<...>[1444 rows x 382 columns]\n",
      "dataset_2   DataFrame          MSSubClass_20  MSSu<...>[1444 rows x 390 columns]\n",
      "dataset_3   DataFrame          LotFrontage   LotAr<...>[1444 rows x 382 columns]\n",
      "dataset_4   DataFrame          LotFrontage   LotAr<...>[1444 rows x 390 columns]\n"
     ]
    }
   ],
   "source": [
    "###### Display Dataframes currently loaded\n",
    "\n",
    "%whos DataFrame"
   ]
  },
  {
   "cell_type": "code",
   "execution_count": 3,
   "metadata": {},
   "outputs": [],
   "source": [
    "###### Import the Python Numerical Stack\n",
    "\n",
    "import matplotlib.pyplot as plt\n",
    "import numpy as np\n",
    "import seaborn as sns"
   ]
  },
  {
   "cell_type": "code",
   "execution_count": 4,
   "metadata": {},
   "outputs": [],
   "source": [
    "###### Import metrics from Scikit-Learn \n",
    "\n",
    "from sklearn.metrics import r2_score, mean_squared_error, mean_absolute_error"
   ]
  },
  {
   "cell_type": "code",
   "execution_count": 5,
   "metadata": {},
   "outputs": [],
   "source": [
    "###### Suppress Warnings\n",
    "\n",
    "import warnings\n",
    "warnings.filterwarnings('ignore')"
   ]
  },
  {
   "cell_type": "code",
   "execution_count": 6,
   "metadata": {},
   "outputs": [],
   "source": [
    "###### Load Grid Search Cross-Validator \n",
    "\n",
    "from sklearn.model_selection import GridSearchCV"
   ]
  },
  {
   "cell_type": "code",
   "execution_count": 7,
   "metadata": {},
   "outputs": [],
   "source": [
    "###### Import Linear Models\n",
    "\n",
    "from sklearn.linear_model import Lasso, Ridge, SGDRegressor\n",
    "from sklearn.svm import LinearSVR"
   ]
  },
  {
   "cell_type": "markdown",
   "metadata": {},
   "source": [
    "http://scikit-learn.org/stable/tutorial/machine_learning_map/index.html\n",
    "\n",
    "<img src=\"https://www.evernote.com/l/AAEeKAnYmjFJX7GnDLsoUChT8idXE1JrFiIB/image.png\">"
   ]
  },
  {
   "cell_type": "markdown",
   "metadata": {},
   "source": [
    "#### Most Appropriate Estimators"
   ]
  },
  {
   "cell_type": "code",
   "execution_count": 8,
   "metadata": {},
   "outputs": [],
   "source": [
    "###### Define Grid Search parameters for four models\n",
    "\n",
    "gs_param_lasso = {\n",
    "    'alpha' : np.logspace(-1,5,7)\n",
    "}\n",
    "\n",
    "gs_param_ridge = {\n",
    "    'alpha' : np.logspace(-1,5,7)\n",
    "}\n",
    "\n",
    "gs_param_sgd = {\n",
    "    'penalty' : ['l1', 'l2'],\n",
    "    'alpha' : np.logspace(-1,5,7)\n",
    "}\n",
    "\n",
    "gs_param_linear_svr = {\n",
    "    'C' : np.logspace(-5, 5, 7)\n",
    "    \n",
    "}"
   ]
  },
  {
   "cell_type": "code",
   "execution_count": 9,
   "metadata": {},
   "outputs": [],
   "source": [
    "###### Define Grid Search models\n",
    "\n",
    "lasso_grid_search = GridSearchCV(\n",
    "    Lasso(),\n",
    "    param_grid=gs_param_lasso,\n",
    "    n_jobs=-1\n",
    ")\n",
    "\n",
    "ridge_grid_search = GridSearchCV(\n",
    "    Ridge(),\n",
    "    param_grid=gs_param_ridge,\n",
    "    n_jobs=-1\n",
    ")\n",
    "\n",
    "sgd_grid_search = GridSearchCV(\n",
    "    SGDRegressor(),\n",
    "    param_grid=gs_param_ridge,\n",
    "    n_jobs=-1\n",
    ")\n",
    "\n",
    "linearsvr_grid_search = GridSearchCV(\n",
    "    LinearSVR(),\n",
    "    param_grid=gs_param_linear_svr,\n",
    "    n_jobs=-1\n",
    ")"
   ]
  },
  {
   "cell_type": "code",
   "execution_count": 10,
   "metadata": {},
   "outputs": [
    {
     "data": {
      "text/plain": [
       "GridSearchCV(cv=None, error_score='raise',\n",
       "       estimator=LinearSVR(C=1.0, dual=True, epsilon=0.0, fit_intercept=True,\n",
       "     intercept_scaling=1.0, loss='epsilon_insensitive', max_iter=1000,\n",
       "     random_state=None, tol=0.0001, verbose=0),\n",
       "       fit_params=None, iid=True, n_jobs=-1,\n",
       "       param_grid={'C': array([  1.00000e-05,   4.64159e-04,   2.15443e-02,   1.00000e+00,\n",
       "         4.64159e+01,   2.15443e+03,   1.00000e+05])},\n",
       "       pre_dispatch='2*n_jobs', refit=True, return_train_score='warn',\n",
       "       scoring=None, verbose=0)"
      ]
     },
     "execution_count": 10,
     "metadata": {},
     "output_type": "execute_result"
    }
   ],
   "source": [
    "###### Perform fit on Dataset 2\n",
    "\n",
    "lasso_grid_search.fit(dataset_2, target_2)\n",
    "ridge_grid_search.fit(dataset_2, target_2)\n",
    "sgd_grid_search.fit(dataset_2, target_2)\n",
    "linearsvr_grid_search.fit(dataset_2, target_2)"
   ]
  },
  {
   "cell_type": "code",
   "execution_count": 11,
   "metadata": {},
   "outputs": [],
   "source": [
    "###### Retrieve Best Estimator from Grid Search models\n",
    "\n",
    "best_lasso = lasso_grid_search.best_estimator_\n",
    "best_ridge = ridge_grid_search.best_estimator_\n",
    "best_sgd = sgd_grid_search.best_estimator_\n",
    "best_linearsvr = linearsvr_grid_search.best_estimator_"
   ]
  },
  {
   "cell_type": "code",
   "execution_count": 12,
   "metadata": {},
   "outputs": [
    {
     "data": {
      "text/plain": [
       "(0.89400639458492726,\n",
       " 0.88839245300767244,\n",
       " 0.84718337735001903,\n",
       " 0.88165032380996167)"
      ]
     },
     "execution_count": 12,
     "metadata": {},
     "output_type": "execute_result"
    }
   ],
   "source": [
    "###### Display Best Scores from Grid Search models\n",
    "\n",
    "(lasso_grid_search.best_score_,\n",
    " ridge_grid_search.best_score_,\n",
    " sgd_grid_search.best_score_,\n",
    " linearsvr_grid_search.best_score_)"
   ]
  },
  {
   "cell_type": "code",
   "execution_count": 13,
   "metadata": {},
   "outputs": [
    {
     "data": {
      "text/plain": [
       "Lasso(alpha=100.0, copy_X=True, fit_intercept=True, max_iter=1000,\n",
       "   normalize=False, positive=False, precompute=False, random_state=None,\n",
       "   selection='cyclic', tol=0.0001, warm_start=False)"
      ]
     },
     "execution_count": 13,
     "metadata": {},
     "output_type": "execute_result"
    }
   ],
   "source": [
    "###### Display best model\n",
    "\n",
    "best_lasso"
   ]
  },
  {
   "cell_type": "markdown",
   "metadata": {},
   "source": [
    "#### Next Level"
   ]
  },
  {
   "cell_type": "code",
   "execution_count": 14,
   "metadata": {},
   "outputs": [],
   "source": [
    "###### Import kernel enabled support vector machine\n",
    "\n",
    "from sklearn.svm import SVR"
   ]
  },
  {
   "cell_type": "code",
   "execution_count": 15,
   "metadata": {},
   "outputs": [],
   "source": [
    "###### Import ensemble models\n",
    "\n",
    "from sklearn.ensemble import (AdaBoostRegressor,\n",
    "                              GradientBoostingRegressor,\n",
    "                              RandomForestRegressor)"
   ]
  },
  {
   "cell_type": "code",
   "execution_count": 16,
   "metadata": {},
   "outputs": [],
   "source": [
    "###### Define Grid Search parameters for four models\n",
    "\n",
    "gs_param_svr = {\n",
    "    'kernel' : ['rbf'],\n",
    "    'C' : np.logspace(-5, 5, 7)\n",
    "}\n",
    "\n",
    "gs_param_adaboost = {\n",
    "    \n",
    "}\n",
    "\n",
    "gs_param_gradboost = {\n",
    "    'max_depth' : [1,2,3,4,5],\n",
    "    'max_features' : ['sqrt', 'auto', 'log2']\n",
    "}\n",
    "\n",
    "gs_param_random_forest = {   \n",
    "    'n_estimators' : [10,20,50,100],\n",
    "    'max_features' : ['sqrt', 'auto', 'log2']\n",
    "}"
   ]
  },
  {
   "cell_type": "code",
   "execution_count": 17,
   "metadata": {},
   "outputs": [],
   "source": [
    "###### Define Grid Search models\n",
    "\n",
    "svr_grid_search = GridSearchCV(\n",
    "    SVR(),\n",
    "    param_grid=gs_param_svr,\n",
    "    n_jobs=-1\n",
    ")\n",
    "\n",
    "adaboost_grid_search = GridSearchCV(\n",
    "    AdaBoostRegressor(), \n",
    "    param_grid=gs_param_adaboost, \n",
    "    n_jobs=-1\n",
    ")\n",
    "\n",
    "gradboost_grid_search = GridSearchCV(\n",
    "    GradientBoostingRegressor(),\n",
    "    param_grid=gs_param_gradboost,\n",
    "    n_jobs=-1\n",
    ")\n",
    "\n",
    "random_forest_grid_search = GridSearchCV(\n",
    "    RandomForestRegressor(),\n",
    "    param_grid=gs_param_random_forest,\n",
    "    n_jobs=-1\n",
    ")"
   ]
  },
  {
   "cell_type": "code",
   "execution_count": 18,
   "metadata": {},
   "outputs": [
    {
     "data": {
      "text/plain": [
       "GridSearchCV(cv=None, error_score='raise',\n",
       "       estimator=RandomForestRegressor(bootstrap=True, criterion='mse', max_depth=None,\n",
       "           max_features='auto', max_leaf_nodes=None,\n",
       "           min_impurity_decrease=0.0, min_impurity_split=None,\n",
       "           min_samples_leaf=1, min_samples_split=2,\n",
       "           min_weight_fraction_leaf=0.0, n_estimators=10, n_jobs=1,\n",
       "           oob_score=False, random_state=None, verbose=0, warm_start=False),\n",
       "       fit_params=None, iid=True, n_jobs=-1,\n",
       "       param_grid={'n_estimators': [10, 20, 50, 100], 'max_features': ['sqrt', 'auto', 'log2']},\n",
       "       pre_dispatch='2*n_jobs', refit=True, return_train_score='warn',\n",
       "       scoring=None, verbose=0)"
      ]
     },
     "execution_count": 18,
     "metadata": {},
     "output_type": "execute_result"
    }
   ],
   "source": [
    "###### Perform fit on Dataset 2\n",
    "\n",
    "svr_grid_search.fit(dataset_2, target_2)\n",
    "adaboost_grid_search.fit(dataset_2, target_2)\n",
    "gradboost_grid_search.fit(dataset_2, target_2)\n",
    "random_forest_grid_search.fit(dataset_2, target_2)"
   ]
  },
  {
   "cell_type": "code",
   "execution_count": 19,
   "metadata": {},
   "outputs": [
    {
     "data": {
      "text/plain": [
       "0.89929462910866398"
      ]
     },
     "execution_count": 19,
     "metadata": {},
     "output_type": "execute_result"
    }
   ],
   "source": [
    "###### Display score for gradient boosted model\n",
    "\n",
    "gradboost_grid_search.best_score_"
   ]
  },
  {
   "cell_type": "code",
   "execution_count": 20,
   "metadata": {},
   "outputs": [],
   "source": [
    "###### Import pickle library\n",
    "\n",
    "import pickle"
   ]
  },
  {
   "cell_type": "code",
   "execution_count": 21,
   "metadata": {},
   "outputs": [],
   "source": [
    "###### Import `joblib` from Scikit-Learn\n",
    "\n",
    "from sklearn.externals import joblib"
   ]
  },
  {
   "cell_type": "code",
   "execution_count": 22,
   "metadata": {},
   "outputs": [
    {
     "data": {
      "text/plain": [
       "['best_lasso.p']"
      ]
     },
     "execution_count": 22,
     "metadata": {},
     "output_type": "execute_result"
    }
   ],
   "source": [
    "###### Use `joblib` to export best Lasso model\n",
    "\n",
    "joblib.dump(best_lasso, 'best_lasso.p')"
   ]
  },
  {
   "cell_type": "code",
   "execution_count": 23,
   "metadata": {},
   "outputs": [],
   "source": [
    "###### Use `joblib` to load best Lasso model\n",
    "\n",
    "lasso_model = joblib.load('best_lasso.p')"
   ]
  },
  {
   "cell_type": "code",
   "execution_count": 24,
   "metadata": {},
   "outputs": [],
   "source": [
    "###### Retrieve Best Estimator from Grid Search models\n",
    "\n",
    "best_svr = svr_grid_search.best_estimator_\n",
    "best_adaboost = adaboost_grid_search.best_estimator_\n",
    "best_gradboost = gradboost_grid_search.best_estimator_\n",
    "best_random_forest = random_forest_grid_search.best_estimator_"
   ]
  },
  {
   "cell_type": "code",
   "execution_count": 25,
   "metadata": {},
   "outputs": [
    {
     "data": {
      "text/plain": [
       "(0.85956305247797804,\n",
       " 0.82003112953274304,\n",
       " 0.89929462910866398,\n",
       " 0.86096590928997041)"
      ]
     },
     "execution_count": 25,
     "metadata": {},
     "output_type": "execute_result"
    }
   ],
   "source": [
    "###### Display Best Scores from Grid Search models\n",
    "\n",
    "(svr_grid_search.best_score_,\n",
    " adaboost_grid_search.best_score_,\n",
    " gradboost_grid_search.best_score_,\n",
    " random_forest_grid_search.best_score_)"
   ]
  },
  {
   "cell_type": "code",
   "execution_count": 26,
   "metadata": {
    "scrolled": true
   },
   "outputs": [
    {
     "data": {
      "text/plain": [
       "(0.89400639458492726, 0.89929462910866398)"
      ]
     },
     "execution_count": 26,
     "metadata": {},
     "output_type": "execute_result"
    }
   ],
   "source": [
    "###### Display best model scores\n",
    "\n",
    "lasso_grid_search.best_score_, gradboost_grid_search.best_score_"
   ]
  },
  {
   "cell_type": "markdown",
   "metadata": {},
   "source": [
    "#### Neural Network"
   ]
  },
  {
   "cell_type": "code",
   "execution_count": 27,
   "metadata": {},
   "outputs": [],
   "source": [
    "###### Import multilayer perceptron model\n",
    "\n",
    "from sklearn.neural_network import MLPRegressor"
   ]
  },
  {
   "cell_type": "code",
   "execution_count": 28,
   "metadata": {},
   "outputs": [],
   "source": [
    "###### Define grid search parameters\n",
    "\n",
    "gs_param_nn = {\n",
    "    'hidden_layer_sizes' : [\n",
    "        (8, ), (4,4), (2,2,2)\n",
    "    ],\n",
    "    'alpha' : np.logspace(-3,3,7)\n",
    "}"
   ]
  },
  {
   "cell_type": "code",
   "execution_count": 29,
   "metadata": {},
   "outputs": [],
   "source": [
    "###### Define grid search model\n",
    "\n",
    "nn_grid_search = GridSearchCV(MLPRegressor(), param_grid=gs_param_nn, n_jobs=-1)"
   ]
  },
  {
   "cell_type": "code",
   "execution_count": 30,
   "metadata": {},
   "outputs": [
    {
     "data": {
      "text/plain": [
       "GridSearchCV(cv=None, error_score='raise',\n",
       "       estimator=MLPRegressor(activation='relu', alpha=0.0001, batch_size='auto', beta_1=0.9,\n",
       "       beta_2=0.999, early_stopping=False, epsilon=1e-08,\n",
       "       hidden_layer_sizes=(100,), learning_rate='constant',\n",
       "       learning_rate_init=0.001, max_iter=200, momentum=0.9,\n",
       "       nesterovs_momentum=True, power_t=0.5, random_state=None,\n",
       "       shuffle=True, solver='adam', tol=0.0001, validation_fraction=0.1,\n",
       "       verbose=False, warm_start=False),\n",
       "       fit_params=None, iid=True, n_jobs=-1,\n",
       "       param_grid={'hidden_layer_sizes': [(8,), (4, 4), (2, 2, 2)], 'alpha': array([  1.00000e-03,   1.00000e-02,   1.00000e-01,   1.00000e+00,\n",
       "         1.00000e+01,   1.00000e+02,   1.00000e+03])},\n",
       "       pre_dispatch='2*n_jobs', refit=True, return_train_score='warn',\n",
       "       scoring=None, verbose=0)"
      ]
     },
     "execution_count": 30,
     "metadata": {},
     "output_type": "execute_result"
    }
   ],
   "source": [
    "###### Fit model\n",
    "\n",
    "nn_grid_search.fit(dataset_2, target_2)"
   ]
  },
  {
   "cell_type": "code",
   "execution_count": 31,
   "metadata": {},
   "outputs": [
    {
     "data": {
      "text/plain": [
       "-4.9890829237619414"
      ]
     },
     "execution_count": 31,
     "metadata": {},
     "output_type": "execute_result"
    }
   ],
   "source": [
    "###### Display best neural network score\n",
    "nn_grid_search.best_score_"
   ]
  }
 ],
 "metadata": {
  "kernelspec": {
   "display_name": "Python 3",
   "language": "python",
   "name": "python3"
  },
  "language_info": {
   "codemirror_mode": {
    "name": "ipython",
    "version": 3
   },
   "file_extension": ".py",
   "mimetype": "text/x-python",
   "name": "python",
   "nbconvert_exporter": "python",
   "pygments_lexer": "ipython3",
   "version": "3.6.6"
  }
 },
 "nbformat": 4,
 "nbformat_minor": 2
}
