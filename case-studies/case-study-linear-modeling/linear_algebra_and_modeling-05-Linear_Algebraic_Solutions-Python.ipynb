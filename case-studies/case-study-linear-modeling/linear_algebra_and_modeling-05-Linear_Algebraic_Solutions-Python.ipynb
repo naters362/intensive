{
 "cells": [
  {
   "cell_type": "code",
   "execution_count": 1,
   "metadata": {
    "tags": [
     "remove"
    ]
   },
   "outputs": [],
   "source": [
    "###### Instantiate Environment\n",
    "\n",
    "%run preamble.py\n",
    "%matplotlib inline"
   ]
  },
  {
   "cell_type": "markdown",
   "metadata": {},
   "source": [
    "### Linear Algebraic Solutions"
   ]
  },
  {
   "cell_type": "markdown",
   "metadata": {},
   "source": [
    "#### A System of Linear Equations"
   ]
  },
  {
   "cell_type": "markdown",
   "metadata": {},
   "source": [
    "$$y = 3x - 2$$\n",
    "\n",
    "$$y = -5x + 6$$\n",
    "\n",
    "Our system in standard form, where we change our to two variables to $x_1$ and $x_2$:\n",
    "$$-3x_1 + x_2 = -2$$\n",
    "$$5x_1 + x_2 = 6$$\n",
    "\n",
    "Can be rewritten as\n",
    "\n",
    "$$(-3,1)^T(x_1,x_2)=-2$$\n",
    "$$(5,1)^T(x_1,x_2)=6$$\n",
    "\n",
    "$$\\left(\\begin{matrix}-3&1\\end{matrix}\\right)\\left(\\begin{matrix}x_1\\\\x_2\\end{matrix}\\right)=-2$$\n",
    "$$\\left(\\begin{matrix}5 &1\\end{matrix}\\right)\\left(\\begin{matrix}x_1\\\\x_2\\end{matrix}\\right)=6$$\n",
    "\n",
    "$$\\left(\\begin{matrix}-3&1\\\\5 &1\\end{matrix}\\right)\\left(\\begin{matrix}x_1\\\\x_2\\end{matrix}\\right)=\\left(\\begin{matrix}-2\\\\6\\end{matrix}\\right)$$\n",
    "\n",
    "Let\n",
    "$$A = \\left(\\begin{matrix}-3&1\\\\5 &1\\end{matrix}\\right)$$\n",
    "$$\\mathbf{x}=\\left(\\begin{matrix}x_1\\\\x_2\\end{matrix}\\right)$$\n",
    "$$\\mathbf{b}=\\left(\\begin{matrix}-2\\\\6\\end{matrix}\\right)$$\n",
    "\n",
    "Now\n",
    "\n",
    "$$A\\mathbf{x}=\\mathbf{b}$$\n",
    "\n",
    "represents\n",
    "\n",
    "$$y = 3x - 2$$\n",
    "$$y = -5x + 6$$\n",
    "\n",
    "\n",
    "Where the vector $\\mathbf{x} = (x_1, x_2) = (x, y)$."
   ]
  },
  {
   "cell_type": "markdown",
   "metadata": {},
   "source": [
    "##### Solving Algebraic Equations"
   ]
  },
  {
   "cell_type": "markdown",
   "metadata": {},
   "source": [
    "If we had some simple problem like \n",
    "\n",
    "$$a\\cdot x = b$$\n",
    "\n",
    "we could solve this simply by dividing both sides by $a$. \n",
    "\n",
    "&nbsp;\n",
    "\n",
    "&nbsp;"
   ]
  },
  {
   "cell_type": "markdown",
   "metadata": {},
   "source": [
    "##### Division is actually multiplication by the Inverse"
   ]
  },
  {
   "cell_type": "markdown",
   "metadata": {},
   "source": [
    "Another way to say this is that we multiply both sides by the multiplicative inverse of $a$, which is $\\frac{1}{a}$.\n",
    "\n",
    "&nbsp; \n",
    "\n",
    "&nbsp;\n",
    "\n",
    "&nbsp;"
   ]
  },
  {
   "cell_type": "markdown",
   "metadata": {},
   "source": [
    "#### The Identity and the Inverse"
   ]
  },
  {
   "cell_type": "markdown",
   "metadata": {},
   "source": [
    "$I$ is the identity matrix, which is very similar to the value 1 for a scalar. \n",
    "\n",
    "For a scalar \n",
    "\n",
    "$$1\\cdot\\alpha = \\alpha$$\n",
    "\n",
    "For a matrix\n",
    "\n",
    "$$IA = A$$"
   ]
  },
  {
   "cell_type": "markdown",
   "metadata": {},
   "source": [
    "##### WE CAN NOT DIVIDE VECTORS"
   ]
  },
  {
   "cell_type": "markdown",
   "metadata": {},
   "source": [
    "In some cases, we can take the inverse.\n",
    "\n",
    "$$A^{-1}A = I$$\n",
    "\n",
    "We have\n",
    "\n",
    "$$A\\mathbf{x}=\\mathbf{b}$$\n",
    "\n",
    "If the inverse of $A$ exists\n",
    "\n",
    "then\n",
    "\n",
    "\\begin{align}\n",
    "A\\mathbf{x}&=\\mathbf{b}\\\\\n",
    "A^{-1}A\\mathbf{x}&=A^{-1}\\mathbf{b}\\\\\n",
    "I\\mathbf{x}&=A^{-1}\\mathbf{b}\\tag{By definition of the inverse of $A$}\\\\\n",
    "\\mathbf{x}&=A^{-1}\\mathbf{b}\\tag{By the property of the inverse}\n",
    "\\end{align}"
   ]
  },
  {
   "cell_type": "markdown",
   "metadata": {},
   "source": [
    "#### Linear Algebraic Solutions in Python"
   ]
  },
  {
   "cell_type": "markdown",
   "metadata": {},
   "source": [
    "##### `numpy.linalg.solve` "
   ]
  },
  {
   "cell_type": "markdown",
   "metadata": {},
   "source": [
    "We can solve systems of linear equations in Python using the `numpy.linalg.solve` function.\n",
    "\n",
    "What does the Python function `numpy.linalg.solve` do?"
   ]
  },
  {
   "cell_type": "code",
   "execution_count": 2,
   "metadata": {},
   "outputs": [
    {
     "data": {
      "text/plain": [
       "array([2.])"
      ]
     },
     "execution_count": 2,
     "metadata": {},
     "output_type": "execute_result"
    }
   ],
   "source": [
    "###### Solve a Simple Equation\n",
    "\n",
    "np.linalg.solve(np.array([[3]]), np.array([6]))"
   ]
  },
  {
   "cell_type": "markdown",
   "metadata": {},
   "source": [
    "Here, we have solved the algebraic expression \n",
    "\n",
    "$$3x=6$$\n",
    "\n",
    "`solve(a,b)` returns the result of $a^{-1}b$.\n",
    "\n",
    "$$3^{-1}6=2$$\n",
    "\n",
    "This becomes more complicated when considering vector results."
   ]
  },
  {
   "cell_type": "code",
   "execution_count": 3,
   "metadata": {},
   "outputs": [
    {
     "data": {
      "text/plain": [
       "array([[1.5, 3. ]])"
      ]
     },
     "execution_count": 3,
     "metadata": {},
     "output_type": "execute_result"
    }
   ],
   "source": [
    "###### Solve a Vector Equation\n",
    "\n",
    "np.linalg.solve(np.array([[2]]), np.array([[3,6]]))"
   ]
  }
 ],
 "metadata": {
  "kernelspec": {
   "display_name": "Python 3",
   "language": "python",
   "name": "python3"
  },
  "language_info": {
   "codemirror_mode": {
    "name": "ipython",
    "version": 3
   },
   "file_extension": ".py",
   "mimetype": "text/x-python",
   "name": "python",
   "nbconvert_exporter": "python",
   "pygments_lexer": "ipython3",
   "version": "3.6.4"
  }
 },
 "nbformat": 4,
 "nbformat_minor": 2
}
